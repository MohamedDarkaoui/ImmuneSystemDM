{
 "cells": [
  {
   "cell_type": "markdown",
   "source": [
    "## Data"
   ],
   "metadata": {
    "collapsed": false
   },
   "id": "ff3f0f088bef217f"
  },
  {
   "cell_type": "code",
   "execution_count": 1,
   "outputs": [],
   "source": [
    "%load_ext autoreload\n",
    "%autoreload 2"
   ],
   "metadata": {
    "collapsed": false,
    "ExecuteTime": {
     "end_time": "2023-11-11T19:40:13.372776900Z",
     "start_time": "2023-11-11T19:40:13.275778200Z"
    }
   },
   "id": "40f89264020e0c03"
  },
  {
   "cell_type": "code",
   "execution_count": 2,
   "outputs": [],
   "source": [
    "import pandas as pd\n",
    "import numpy as np\n",
    "import tensorflow as tf"
   ],
   "metadata": {
    "collapsed": false,
    "ExecuteTime": {
     "end_time": "2023-11-11T19:40:21.373778Z",
     "start_time": "2023-11-11T19:40:14.978781200Z"
    }
   },
   "id": "9bea6cfcd042a9b8"
  },
  {
   "cell_type": "code",
   "execution_count": 16,
   "outputs": [
    {
     "data": {
      "text/plain": "     Epitope           TRB_CDR3  Label\n0  ATDALMTGF      CASRGDTFYEQYF      1\n1  ATDALMTGF    CATSDSVAGNQPQHF      1\n2  ATDALMTGF    CAISESSSGNNEQFF      1\n3  ATDALMTGF  CASSFGGSRLGEETQYF      1\n4  ATDALMTGF  CASSPLTGESMSEKLFF      1\n5  ATDALMTGF    CAISESSAGFNEQFF      1\n6  ATDALMTGF    CSARDTVSSNQPQHF      1\n7  ATDALMTGF   CASSYPRTASNQPQHF      1\n8  ATDALMTGF  CASSQFFSGEGLYGYTF      1\n9  ATDALMTGF    CASSENSNSNQPQHF      1",
      "text/html": "<div>\n<style scoped>\n    .dataframe tbody tr th:only-of-type {\n        vertical-align: middle;\n    }\n\n    .dataframe tbody tr th {\n        vertical-align: top;\n    }\n\n    .dataframe thead th {\n        text-align: right;\n    }\n</style>\n<table border=\"1\" class=\"dataframe\">\n  <thead>\n    <tr style=\"text-align: right;\">\n      <th></th>\n      <th>Epitope</th>\n      <th>TRB_CDR3</th>\n      <th>Label</th>\n    </tr>\n  </thead>\n  <tbody>\n    <tr>\n      <th>0</th>\n      <td>ATDALMTGF</td>\n      <td>CASRGDTFYEQYF</td>\n      <td>1</td>\n    </tr>\n    <tr>\n      <th>1</th>\n      <td>ATDALMTGF</td>\n      <td>CATSDSVAGNQPQHF</td>\n      <td>1</td>\n    </tr>\n    <tr>\n      <th>2</th>\n      <td>ATDALMTGF</td>\n      <td>CAISESSSGNNEQFF</td>\n      <td>1</td>\n    </tr>\n    <tr>\n      <th>3</th>\n      <td>ATDALMTGF</td>\n      <td>CASSFGGSRLGEETQYF</td>\n      <td>1</td>\n    </tr>\n    <tr>\n      <th>4</th>\n      <td>ATDALMTGF</td>\n      <td>CASSPLTGESMSEKLFF</td>\n      <td>1</td>\n    </tr>\n    <tr>\n      <th>5</th>\n      <td>ATDALMTGF</td>\n      <td>CAISESSAGFNEQFF</td>\n      <td>1</td>\n    </tr>\n    <tr>\n      <th>6</th>\n      <td>ATDALMTGF</td>\n      <td>CSARDTVSSNQPQHF</td>\n      <td>1</td>\n    </tr>\n    <tr>\n      <th>7</th>\n      <td>ATDALMTGF</td>\n      <td>CASSYPRTASNQPQHF</td>\n      <td>1</td>\n    </tr>\n    <tr>\n      <th>8</th>\n      <td>ATDALMTGF</td>\n      <td>CASSQFFSGEGLYGYTF</td>\n      <td>1</td>\n    </tr>\n    <tr>\n      <th>9</th>\n      <td>ATDALMTGF</td>\n      <td>CASSENSNSNQPQHF</td>\n      <td>1</td>\n    </tr>\n  </tbody>\n</table>\n</div>"
     },
     "execution_count": 16,
     "metadata": {},
     "output_type": "execute_result"
    }
   ],
   "source": [
    "# multiple txt files --> one df\n",
    "from data.data_processing import list_epitopes, load_epitope_trb_data\n",
    "\n",
    "train_folder = '../data/training_data/'\n",
    "epitopes = list_epitopes(train_folder)\n",
    "\n",
    "dfs = []\n",
    "for epitope in epitopes:\n",
    "    df = load_epitope_trb_data(train_folder, epitope)\n",
    "    df['Epitope'] = epitope\n",
    "    df = df[['Epitope', 'TRB_CDR3', 'Label']]\n",
    "    dfs.append(df)\n",
    "\n",
    "df = pd.concat(dfs)\n",
    "df.head(10)"
   ],
   "metadata": {
    "collapsed": false,
    "ExecuteTime": {
     "end_time": "2023-11-11T19:50:51.193062Z",
     "start_time": "2023-11-11T19:50:49.943063500Z"
    }
   },
   "id": "653fe69e323aa78a"
  },
  {
   "cell_type": "code",
   "execution_count": 17,
   "outputs": [
    {
     "name": "stdout",
     "output_type": "stream",
     "text": [
      "(21, 10)\n"
     ]
    }
   ],
   "source": [
    "# find the maximum sequence lengths in both train and test set\n",
    "\n",
    "from data.data_processing import max_trb_epitope_lengths\n",
    "\n",
    "max_len_trb, max_len_epitope = max_trb_epitope_lengths(train_folder, '../data/true_set/')\n",
    "\n",
    "print((max_len_trb, max_len_epitope))"
   ],
   "metadata": {
    "collapsed": false,
    "ExecuteTime": {
     "end_time": "2023-11-11T19:51:08.045247500Z",
     "start_time": "2023-11-11T19:51:06.093251800Z"
    }
   },
   "id": "f8792dc87b23258b"
  },
  {
   "cell_type": "code",
   "execution_count": 18,
   "outputs": [],
   "source": [
    "from external.bio.peptide_feature import parse_features, parse_operator\n",
    "from external.bio.feature_builder import CombinedPeptideFeatureBuilder\n",
    "\n",
    "# specify the different interaction map features and the operator that is used to calculate the entries\n",
    "features_list = parse_features('hydrophob,isoelectric,mass,hydrophil')\n",
    "operator = parse_operator('absdiff')\n",
    "feature_builder = CombinedPeptideFeatureBuilder(features_list, operator)"
   ],
   "metadata": {
    "collapsed": false,
    "ExecuteTime": {
     "end_time": "2023-11-11T19:52:24.503207600Z",
     "start_time": "2023-11-11T19:52:24.167209200Z"
    }
   },
   "id": "49570e9063088bf7"
  },
  {
   "cell_type": "code",
   "execution_count": 19,
   "outputs": [
    {
     "name": "stdout",
     "output_type": "stream",
     "text": [
      "TYPE:  <class 'numpy.ndarray'>\n",
      "SHAPE:  (13, 9, 4)\n"
     ]
    }
   ],
   "source": [
    "im = feature_builder.generate_peptides_feature(df.iloc[0,1], df.iloc[0,0])\n",
    "print(\"TYPE: \", type(im))\n",
    "print(\"SHAPE: \", im.shape)"
   ],
   "metadata": {
    "collapsed": false,
    "ExecuteTime": {
     "end_time": "2023-11-11T19:52:25.816586800Z",
     "start_time": "2023-11-11T19:52:25.472582200Z"
    }
   },
   "id": "62ffbab26f0c1c5"
  },
  {
   "cell_type": "code",
   "execution_count": 21,
   "outputs": [],
   "source": [
    "# for each tcr-epitope pair, generate an interaction map, zero pad it and store it in df\n",
    "from data.data_processing import generate_interaction_map, pad\n",
    "\n",
    "df['interaction_map'] = df.apply(\n",
    "    lambda row: pad(\n",
    "        generate_interaction_map(\n",
    "            row['TRB_CDR3'],\n",
    "            row['Epitope'],\n",
    "            'hydrophob,isoelectric,mass,hydrophil',\n",
    "            'absdiff'\n",
    "        ), \n",
    "        max_len_trb,\n",
    "        max_len_epitope\n",
    "    ), \n",
    "    axis=1\n",
    ")\n",
    "df = df[['interaction_map', 'Label']]"
   ],
   "metadata": {
    "collapsed": false,
    "ExecuteTime": {
     "end_time": "2023-11-11T20:21:49.848318200Z",
     "start_time": "2023-11-11T20:21:46.388127600Z"
    }
   },
   "id": "593746c82ae2f732"
  },
  {
   "cell_type": "code",
   "execution_count": 22,
   "outputs": [
    {
     "name": "stdout",
     "output_type": "stream",
     "text": [
      "(21, 10, 4)\n"
     ]
    }
   ],
   "source": [
    "print(df.iloc[0,0].shape)"
   ],
   "metadata": {
    "collapsed": false,
    "ExecuteTime": {
     "end_time": "2023-11-11T20:21:53.646848600Z",
     "start_time": "2023-11-11T20:21:53.330947300Z"
    }
   },
   "id": "16d60af57befd47b"
  },
  {
   "cell_type": "markdown",
   "source": [
    "## Model"
   ],
   "metadata": {
    "collapsed": false
   },
   "id": "2903b68ba732282a"
  },
  {
   "cell_type": "code",
   "execution_count": 29,
   "outputs": [],
   "source": [
    "from tensorflow import keras\n",
    "MODEL_CONFIG = {\n",
    "  'filters': [(128, 64), (128, 64)],  # two units, each with two convolutional layers, the filter size of layer 1 us 128\n",
    "  'kernel_size': (3, 3),\n",
    "  'pool_size': (2, 2),\n",
    "  'activation': 'relu',\n",
    "  'padding': 'same',\n",
    "  'kernel_initializer': 'he_normal',\n",
    "  'kernel_regularizer': keras.regularizers.l2(0.01),\n",
    "  'dropout_conv': 0.25,\n",
    "  'dense_activation': 'relu',\n",
    "  'dense_units': 32,\n",
    "  'nr_classes': 1,\n",
    "  'final_activation': 'sigmoid'\n",
    "}"
   ],
   "metadata": {
    "collapsed": false,
    "ExecuteTime": {
     "end_time": "2023-11-11T20:37:36.592795500Z",
     "start_time": "2023-11-11T20:37:36.127796500Z"
    }
   },
   "id": "a35158fd0e88b856"
  },
  {
   "cell_type": "code",
   "execution_count": 13,
   "outputs": [],
   "source": [
    "from models.CNN_model.model import build_model\n",
    "\n",
    "model = build_model(MODEL_CONFIG)\n",
    "\n",
    "model.compile(\n",
    "    optimizer='rmsprop',\n",
    "    loss=keras.losses.BinaryCrossentropy(),\n",
    "    metrics=[\n",
    "        'accuracy',\n",
    "        keras.metrics.AUC(curve=\"ROC\", name=\"roc_auc\"), \n",
    "        keras.metrics.Precision(name=\"precision\"),\n",
    "        keras.metrics.Recall(name=\"recall\")\n",
    "    ],\n",
    "    loss_weights=None,\n",
    "    sample_weight_mode=None,\n",
    "    weighted_metrics=None,\n",
    "    target_tensors=None,\n",
    "    distribute=None,\n",
    ")"
   ],
   "metadata": {
    "collapsed": false,
    "ExecuteTime": {
     "end_time": "2023-11-11T17:43:04.084095500Z",
     "start_time": "2023-11-11T17:43:03.814095900Z"
    }
   },
   "id": "61b01cffb7b8e4af"
  },
  {
   "cell_type": "markdown",
   "source": [
    "## Train"
   ],
   "metadata": {
    "collapsed": false
   },
   "id": "621f30b5f2aacfa8"
  },
  {
   "cell_type": "code",
   "execution_count": 24,
   "outputs": [],
   "source": [
    "# split data into train and validation set\n",
    "from sklearn.model_selection import train_test_split\n",
    "\n",
    "X = list(df['interaction_map'])\n",
    "y = list(df['Label'])\n",
    "\n",
    "X_train, X_val, y_train, y_val = train_test_split(X, y, test_size=0.2, random_state=42)"
   ],
   "metadata": {
    "collapsed": false,
    "ExecuteTime": {
     "end_time": "2023-11-11T20:34:31.945311300Z",
     "start_time": "2023-11-11T20:34:31.358521100Z"
    }
   },
   "id": "7e8a0ed053e93c3d"
  },
  {
   "cell_type": "code",
   "execution_count": 25,
   "outputs": [],
   "source": [
    "# convert data to tf.data.Dataset objects and batch\n",
    "train_data = tf.data.Dataset.from_tensor_slices((np.array(X_train), np.array(y_train)))\n",
    "val_data = tf.data.Dataset.from_tensor_slices((np.array(X_val), np.array(y_val)))\n",
    "\n",
    "train_data = train_data.shuffle(buffer_size=len(train_data), seed=42, reshuffle_each_iteration=True).batch(32)\n",
    "val_data = val_data.batch(32)"
   ],
   "metadata": {
    "collapsed": false,
    "ExecuteTime": {
     "end_time": "2023-11-11T20:34:38.142473800Z",
     "start_time": "2023-11-11T20:34:37.404475400Z"
    }
   },
   "id": "84fa9ed17d7c227a"
  },
  {
   "cell_type": "code",
   "execution_count": 26,
   "outputs": [
    {
     "data": {
      "text/plain": "{0: 0.6012269938650306, 1: 2.9696969696969697}"
     },
     "execution_count": 26,
     "metadata": {},
     "output_type": "execute_result"
    }
   ],
   "source": [
    "# data imbalance -> weight scaling\n",
    "from sklearn.utils.class_weight import compute_class_weight\n",
    "\n",
    "class_weights = compute_class_weight(\n",
    "    class_weight='balanced',\n",
    "    classes=np.unique(y_train),\n",
    "    y=y_train\n",
    ")\n",
    "class_weights_dict = {0: class_weights[0], 1: class_weights[1]}\n",
    "class_weights_dict"
   ],
   "metadata": {
    "collapsed": false,
    "ExecuteTime": {
     "end_time": "2023-11-11T20:34:41.697870600Z",
     "start_time": "2023-11-11T20:34:41.334873400Z"
    }
   },
   "id": "47df55d880caa750"
  },
  {
   "cell_type": "code",
   "execution_count": 17,
   "outputs": [],
   "source": [
    "from tensorflow.python.distribute.multi_process_lib import multiprocessing\n",
    "workers = multiprocessing.cpu_count()"
   ],
   "metadata": {
    "collapsed": false,
    "ExecuteTime": {
     "end_time": "2023-11-11T17:43:12.100208900Z",
     "start_time": "2023-11-11T17:43:12.084212400Z"
    }
   },
   "id": "c020ab82a2b8f6ec"
  },
  {
   "cell_type": "code",
   "execution_count": 18,
   "outputs": [
    {
     "name": "stdout",
     "output_type": "stream",
     "text": [
      "Epoch 1/20\n",
      "368/368 [==============================] - 33s 83ms/step - loss: 3.7080 - accuracy: 0.6202 - roc_auc: 0.5881 - precision: 0.2121 - recall: 0.4626 - val_loss: 1.4356 - val_accuracy: 0.1581 - val_roc_auc: 0.4490 - val_precision: 0.1581 - val_recall: 1.0000\n",
      "Epoch 2/20\n",
      "368/368 [==============================] - 31s 85ms/step - loss: 0.8923 - accuracy: 0.6440 - roc_auc: 0.6099 - precision: 0.2233 - recall: 0.4495 - val_loss: 0.6947 - val_accuracy: 0.7508 - val_roc_auc: 0.5784 - val_precision: 0.2022 - val_recall: 0.1957\n",
      "Epoch 3/20\n",
      "368/368 [==============================] - 28s 75ms/step - loss: 0.7923 - accuracy: 0.6584 - roc_auc: 0.6371 - precision: 0.2435 - recall: 0.4884 - val_loss: 0.7360 - val_accuracy: 0.6974 - val_roc_auc: 0.5437 - val_precision: 0.1746 - val_recall: 0.2452\n",
      "Epoch 4/20\n",
      "368/368 [==============================] - 27s 73ms/step - loss: 0.7632 - accuracy: 0.6804 - roc_auc: 0.6581 - precision: 0.2626 - recall: 0.4965 - val_loss: 0.7023 - val_accuracy: 0.7242 - val_roc_auc: 0.6481 - val_precision: 0.2630 - val_recall: 0.4129\n",
      "Epoch 5/20\n",
      "368/368 [==============================] - 28s 77ms/step - loss: 0.7446 - accuracy: 0.6747 - roc_auc: 0.6768 - precision: 0.2651 - recall: 0.5263 - val_loss: 0.7354 - val_accuracy: 0.6168 - val_roc_auc: 0.6986 - val_precision: 0.2390 - val_recall: 0.6516\n",
      "Epoch 6/20\n",
      "368/368 [==============================] - 28s 76ms/step - loss: 0.7527 - accuracy: 0.6763 - roc_auc: 0.6922 - precision: 0.2739 - recall: 0.5591 - val_loss: 0.7350 - val_accuracy: 0.6202 - val_roc_auc: 0.6543 - val_precision: 0.2270 - val_recall: 0.5828\n",
      "Epoch 7/20\n",
      "368/368 [==============================] - 27s 73ms/step - loss: 0.7343 - accuracy: 0.6689 - roc_auc: 0.7014 - precision: 0.2717 - recall: 0.5753 - val_loss: 0.7315 - val_accuracy: 0.6501 - val_roc_auc: 0.6670 - val_precision: 0.2345 - val_recall: 0.5355\n",
      "Epoch 8/20\n",
      "368/368 [==============================] - 27s 72ms/step - loss: 0.7333 - accuracy: 0.6787 - roc_auc: 0.7067 - precision: 0.2810 - recall: 0.5828 - val_loss: 0.6039 - val_accuracy: 0.8579 - val_roc_auc: 0.6780 - val_precision: 0.6691 - val_recall: 0.2000\n",
      "Epoch 9/20\n",
      "368/368 [==============================] - 27s 73ms/step - loss: 0.7358 - accuracy: 0.6900 - roc_auc: 0.7148 - precision: 0.2899 - recall: 0.5803 - val_loss: 0.6714 - val_accuracy: 0.8382 - val_roc_auc: 0.6537 - val_precision: 0.4709 - val_recall: 0.1914\n",
      "Epoch 10/20\n",
      "368/368 [==============================] - 27s 72ms/step - loss: 0.7180 - accuracy: 0.6812 - roc_auc: 0.7255 - precision: 0.2890 - recall: 0.6116 - val_loss: 0.6741 - val_accuracy: 0.7242 - val_roc_auc: 0.7150 - val_precision: 0.2931 - val_recall: 0.5269\n",
      "Epoch 11/20\n",
      "368/368 [==============================] - 26s 70ms/step - loss: 0.7209 - accuracy: 0.6932 - roc_auc: 0.7225 - precision: 0.2935 - recall: 0.5843 - val_loss: 0.6518 - val_accuracy: 0.7382 - val_roc_auc: 0.7232 - val_precision: 0.3077 - val_recall: 0.5247\n",
      "Epoch 12/20\n",
      "368/368 [==============================] - 25s 69ms/step - loss: 0.7175 - accuracy: 0.7003 - roc_auc: 0.7361 - precision: 0.3058 - recall: 0.6141 - val_loss: 0.7201 - val_accuracy: 0.7358 - val_roc_auc: 0.7116 - val_precision: 0.3020 - val_recall: 0.5118\n",
      "Epoch 13/20\n",
      "368/368 [==============================] - 25s 69ms/step - loss: 0.7139 - accuracy: 0.6873 - roc_auc: 0.7264 - precision: 0.2932 - recall: 0.6076 - val_loss: 0.5779 - val_accuracy: 0.8392 - val_roc_auc: 0.7349 - val_precision: 0.4861 - val_recall: 0.3011\n",
      "Epoch 14/20\n",
      "368/368 [==============================] - 27s 72ms/step - loss: 0.7005 - accuracy: 0.6866 - roc_auc: 0.7374 - precision: 0.2965 - recall: 0.6273 - val_loss: 0.7255 - val_accuracy: 0.6287 - val_roc_auc: 0.7337 - val_precision: 0.2530 - val_recall: 0.6903\n",
      "Epoch 15/20\n",
      "368/368 [==============================] - 26s 71ms/step - loss: 0.7061 - accuracy: 0.6815 - roc_auc: 0.7394 - precision: 0.2929 - recall: 0.6308 - val_loss: 0.6293 - val_accuracy: 0.7147 - val_roc_auc: 0.7445 - val_precision: 0.2963 - val_recall: 0.5849\n",
      "Epoch 16/20\n",
      "368/368 [==============================] - 31s 85ms/step - loss: 0.7069 - accuracy: 0.7030 - roc_auc: 0.7457 - precision: 0.3093 - recall: 0.6197 - val_loss: 0.6998 - val_accuracy: 0.7593 - val_roc_auc: 0.7232 - val_precision: 0.3267 - val_recall: 0.4925\n",
      "Epoch 17/20\n",
      "368/368 [==============================] - 24s 66ms/step - loss: 0.6946 - accuracy: 0.7057 - roc_auc: 0.7542 - precision: 0.3137 - recall: 0.6298 - val_loss: 0.6445 - val_accuracy: 0.7011 - val_roc_auc: 0.7560 - val_precision: 0.2971 - val_recall: 0.6516\n",
      "Epoch 18/20\n",
      "368/368 [==============================] - 23s 62ms/step - loss: 0.7006 - accuracy: 0.6845 - roc_auc: 0.7476 - precision: 0.2979 - recall: 0.6439 - val_loss: 0.6455 - val_accuracy: 0.8171 - val_roc_auc: 0.7152 - val_precision: 0.4000 - val_recall: 0.3140\n",
      "Epoch 19/20\n",
      "368/368 [==============================] - 32s 88ms/step - loss: 0.6968 - accuracy: 0.7002 - roc_auc: 0.7540 - precision: 0.3142 - recall: 0.6601 - val_loss: 0.6598 - val_accuracy: 0.7195 - val_roc_auc: 0.7201 - val_precision: 0.2941 - val_recall: 0.5527\n",
      "Epoch 20/20\n",
      "368/368 [==============================] - 22s 58ms/step - loss: 0.6947 - accuracy: 0.7154 - roc_auc: 0.7608 - precision: 0.3262 - recall: 0.6480 - val_loss: 0.6191 - val_accuracy: 0.8443 - val_roc_auc: 0.6860 - val_precision: 0.5212 - val_recall: 0.1849\n"
     ]
    }
   ],
   "source": [
    "history = model.fit(\n",
    "    x=train_data,\n",
    "    epochs=20,\n",
    "    validation_data=val_data,\n",
    "    class_weight=class_weights_dict,\n",
    "    max_queue_size=2,\n",
    "    use_multiprocessing=True,\n",
    "    workers=workers,\n",
    "    verbose=1,\n",
    "    shuffle=False,\n",
    ")"
   ],
   "metadata": {
    "collapsed": false,
    "ExecuteTime": {
     "end_time": "2023-11-11T17:52:17.881324300Z",
     "start_time": "2023-11-11T17:43:13.381349700Z"
    }
   },
   "id": "e4f2e85baabb3407"
  },
  {
   "cell_type": "code",
   "execution_count": 29,
   "outputs": [
    {
     "name": "stdout",
     "output_type": "stream",
     "text": [
      "INFO:tensorflow:Assets written to: ../models/binary_classification\\assets\n"
     ]
    },
    {
     "name": "stderr",
     "output_type": "stream",
     "text": [
      "INFO:tensorflow:Assets written to: ../models/binary_classification\\assets\n"
     ]
    }
   ],
   "source": [
    "model.save('../models/binary_classification')"
   ],
   "metadata": {
    "collapsed": false,
    "ExecuteTime": {
     "end_time": "2023-11-11T17:25:02.259735500Z",
     "start_time": "2023-11-11T17:25:00.214343400Z"
    }
   },
   "id": "852329d6dc47d961"
  },
  {
   "cell_type": "code",
   "execution_count": 19,
   "outputs": [
    {
     "data": {
      "text/plain": "<Figure size 1000x500 with 1 Axes>",
      "image/png": "[encoded data removed]"
     },
     "metadata": {},
     "output_type": "display_data"
    }
   ],
   "source": [
    "import matplotlib.pyplot as plt\n",
    "\n",
    "epochs = range(1, len(history.history['loss']) + 1)\n",
    "\n",
    "plt.figure(figsize=(10, 5))\n",
    "plt.plot(epochs, history.history['loss'], color='blue', label='Training Loss')\n",
    "plt.plot(epochs, history.history['val_loss'], color='green', label='Validation Loss')\n",
    "\n",
    "plt.title('Training and Validation Loss')\n",
    "plt.xlabel('Epochs')\n",
    "plt.ylabel('Loss')\n",
    "plt.legend()\n",
    "\n",
    "plt.show()"
   ],
   "metadata": {
    "collapsed": false,
    "ExecuteTime": {
     "end_time": "2023-11-11T17:56:16.079836400Z",
     "start_time": "2023-11-11T17:56:14.723835500Z"
    }
   },
   "id": "24e3138bbb280c16"
  },
  {
   "cell_type": "code",
   "execution_count": 20,
   "outputs": [
    {
     "name": "stderr",
     "output_type": "stream",
     "text": [
      "C:\\Users\\moham\\AppData\\Local\\Temp\\ipykernel_18756\\2914632935.py:6: UserWarning: color is redundantly defined by the 'color' keyword argument and the fmt string \"b\" (-> color=(0.0, 0.0, 1.0, 1)). The keyword argument will take precedence.\n",
      "  plt.plot(epochs, history.history['accuracy'], 'b', label='Accuracy', color='blue')\n",
      "C:\\Users\\moham\\AppData\\Local\\Temp\\ipykernel_18756\\2914632935.py:8: UserWarning: color is redundantly defined by the 'color' keyword argument and the fmt string \"b\" (-> color=(0.0, 0.0, 1.0, 1)). The keyword argument will take precedence.\n",
      "  plt.plot(epochs, history.history['val_accuracy'], 'b', label='Validation Accuracy', color='cyan', linestyle='dashed')\n",
      "C:\\Users\\moham\\AppData\\Local\\Temp\\ipykernel_18756\\2914632935.py:11: UserWarning: color is redundantly defined by the 'color' keyword argument and the fmt string \"b\" (-> color=(0.0, 0.0, 1.0, 1)). The keyword argument will take precedence.\n",
      "  plt.plot(epochs, history.history['roc_auc'], 'b', label='ROC AUC', color='red')\n",
      "C:\\Users\\moham\\AppData\\Local\\Temp\\ipykernel_18756\\2914632935.py:13: UserWarning: color is redundantly defined by the 'color' keyword argument and the fmt string \"b\" (-> color=(0.0, 0.0, 1.0, 1)). The keyword argument will take precedence.\n",
      "  plt.plot(epochs, history.history['val_roc_auc'], 'b', label='Validation ROC AUC', color='pink', linestyle='dashed')\n"
     ]
    },
    {
     "data": {
      "text/plain": "<Figure size 800x600 with 1 Axes>",
      "image/png": "[encoded data removed]"
     },
     "metadata": {},
     "output_type": "display_data"
    }
   ],
   "source": [
    "import matplotlib.pyplot as plt\n",
    "\n",
    "epochs = range(1, len(history.history['accuracy']) + 1)\n",
    "\n",
    "plt.figure(figsize=(8, 6))\n",
    "plt.plot(epochs, history.history['accuracy'], 'b', label='Accuracy', color='blue')\n",
    "if 'val_accuracy' in history.history:\n",
    "    plt.plot(epochs, history.history['val_accuracy'], 'b', label='Validation Accuracy', color='cyan', linestyle='dashed')\n",
    "\n",
    "\n",
    "plt.plot(epochs, history.history['roc_auc'], 'b', label='ROC AUC', color='red')\n",
    "if 'val_roc_auc' in history.history:\n",
    "    plt.plot(epochs, history.history['val_roc_auc'], 'b', label='Validation ROC AUC', color='pink', linestyle='dashed')\n",
    "\n",
    "plt.title('Training Metrics Across Epochs')\n",
    "plt.xlabel('Epochs')\n",
    "plt.ylabel('Metric Values')\n",
    "\n",
    "plt.legend()\n",
    "\n",
    "plt.show()\n"
   ],
   "metadata": {
    "collapsed": false,
    "ExecuteTime": {
     "end_time": "2023-11-11T17:56:20.848545200Z",
     "start_time": "2023-11-11T17:56:20.496552300Z"
    }
   },
   "id": "7bfba6874e1bc16d"
  },
  {
   "cell_type": "markdown",
   "source": [
    "## Test"
   ],
   "metadata": {
    "collapsed": false
   },
   "id": "66cfb9ed8ca74a8e"
  },
  {
   "cell_type": "code",
   "execution_count": 30,
   "outputs": [],
   "source": [
    "test_folder = '../data/true_set/'\n",
    "test_epitopes = list_epitopes(test_folder)"
   ],
   "metadata": {
    "collapsed": false,
    "ExecuteTime": {
     "end_time": "2023-11-11T20:37:43.797526500Z",
     "start_time": "2023-11-11T20:37:43.425011700Z"
    }
   },
   "id": "e2df4a9f91a2bf04"
  },
  {
   "cell_type": "code",
   "execution_count": 31,
   "outputs": [],
   "source": [
    "loaded_model = keras.models.load_model('../models/binary_classification')"
   ],
   "metadata": {
    "collapsed": false,
    "ExecuteTime": {
     "end_time": "2023-11-11T20:37:46.899809700Z",
     "start_time": "2023-11-11T20:37:45.295814400Z"
    }
   },
   "id": "e5a50eb2cb538447"
  },
  {
   "cell_type": "code",
   "execution_count": 55,
   "outputs": [
    {
     "name": "stdout",
     "output_type": "stream",
     "text": [
      "5/5 [==============================] - 0s 16ms/step\n",
      "9/9 [==============================] - 0s 12ms/step\n",
      "26/26 [==============================] - 0s 13ms/step\n",
      "7/7 [==============================] - 0s 17ms/step\n",
      "2/2 [==============================] - 0s 16ms/step\n",
      "3/3 [==============================] - 0s 9ms/step\n",
      "5/5 [==============================] - 0s 17ms/step\n",
      "9/9 [==============================] - 0s 16ms/step\n",
      "5/5 [==============================] - 0s 14ms/step\n",
      "13/13 [==============================] - 0s 13ms/step\n",
      "3/3 [==============================] - 0s 13ms/step\n",
      "3/3 [==============================] - 0s 12ms/step\n",
      "2/2 [==============================] - 0s 14ms/step\n",
      "5/5 [==============================] - 0s 17ms/step\n",
      "3/3 [==============================] - 0s 10ms/step\n",
      "10/10 [==============================] - 0s 12ms/step\n",
      "13/13 [==============================] - 0s 12ms/step\n"
     ]
    }
   ],
   "source": [
    "from sklearn.metrics import roc_auc_score\n",
    "auc_scores = dict()\n",
    "for test_epitope in test_epitopes:\n",
    "    df = load_epitope_trb_data(test_folder, test_epitope)\n",
    "    df['interaction_map'] = df.apply(\n",
    "        lambda row: pad(\n",
    "            generate_interaction_map(\n",
    "                row['TRB_CDR3'],\n",
    "                test_epitope,\n",
    "                'hydrophob,isoelectric,mass,hydrophil',\n",
    "                'absdiff'\n",
    "            ), \n",
    "            max_len_trb,\n",
    "            max_len_epitope\n",
    "        ), \n",
    "        axis=1\n",
    "    )\n",
    "    df = df[['interaction_map', 'Label']]\n",
    "    \n",
    "    imaps = list(df['interaction_map'])\n",
    "    imaps_tensor = tf.stack(imaps)\n",
    "    true_labels  = list(df['Label'])\n",
    "    predicted_scores = loaded_model.predict(imaps_tensor)\n",
    "    auc = roc_auc_score(true_labels, predicted_scores)\n",
    "    auc_scores[test_epitope] = auc"
   ],
   "metadata": {
    "collapsed": false,
    "ExecuteTime": {
     "end_time": "2023-11-11T22:01:27.249788700Z",
     "start_time": "2023-11-11T22:01:21.592794500Z"
    }
   },
   "id": "2dcf40814f75f2ed"
  },
  {
   "cell_type": "code",
   "execution_count": 56,
   "outputs": [
    {
     "data": {
      "text/plain": "{'ATDALMTGF': 0.7847346451997614,\n 'CINGVCWTV': 0.6308145054110499,\n 'GILGFVFTL': 0.8736893056038985,\n 'GLCTLVAML': 0.8049032639196574,\n 'GPRLGVRAT': 0.6916221033868093,\n 'HPVTKYIM': 0.5847222222222221,\n 'KSKRTPMGF': 0.6682242990654206,\n 'LLWNGPMAV': 0.7673155273879584,\n 'LTDEMIAQY': 0.53952,\n 'NLVPMVATV': 0.6480633952029833,\n 'NQKLIANQF': 0.6065727699530516,\n 'NYNYLYRLF': 0.9449404761904762,\n 'RAQAPPPSW': 0.9456790123456791,\n 'SPRWYFYYL': 0.6968390804597702,\n 'TPRVTGGGAM': 0.77046783625731,\n 'TTDPSFLGRY': 0.575139146567718,\n 'YLQPRTFLL': 0.7976532997662292,\n 'average': 0.7253471111141173}"
     },
     "execution_count": 56,
     "metadata": {},
     "output_type": "execute_result"
    }
   ],
   "source": [
    "auc_scores['average'] = sum(auc_scores.values())/len(auc_scores)\n",
    "\n",
    "auc_scores"
   ],
   "metadata": {
    "collapsed": false,
    "ExecuteTime": {
     "end_time": "2023-11-11T22:01:29.921532900Z",
     "start_time": "2023-11-11T22:01:29.566020400Z"
    }
   },
   "id": "b72e360773baa7b4"
  }
 ],
 "metadata": {
  "kernelspec": {
   "display_name": "Python 3",
   "language": "python",
   "name": "python3"
  },
  "language_info": {
   "codemirror_mode": {
    "name": "ipython",
    "version": 2
   },
   "file_extension": ".py",
   "mimetype": "text/x-python",
   "name": "python",
   "nbconvert_exporter": "python",
   "pygments_lexer": "ipython2",
   "version": "2.7.6"
  }
 },
 "nbformat": 4,
 "nbformat_minor": 5
}
