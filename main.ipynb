{
 "cells": [
  {
   "cell_type": "code",
   "execution_count": 2,
   "outputs": [],
   "source": [
    "%load_ext autoreload\n",
    "%autoreload 2"
   ],
   "metadata": {
    "collapsed": false,
    "ExecuteTime": {
     "end_time": "2024-03-28T01:25:10.155042700Z",
     "start_time": "2024-03-28T01:25:08.397528900Z"
    }
   },
   "id": "6a8457473a9c005a"
  },
  {
   "cell_type": "code",
   "execution_count": 10,
   "outputs": [],
   "source": [
    "from src.models.train.binary_classification import train\n",
    "from src.models.test.test import evaluate\n",
    "from src.visualization.plotting import *\n",
    "from src.data.data_processing import generate_imap_dataset, generate_test_data, InteractionMapMode\n",
    "from src.models.TCR3DModel import TCR3DModel"
   ],
   "metadata": {
    "collapsed": false,
    "ExecuteTime": {
     "end_time": "2024-03-28T02:00:39.484844800Z",
     "start_time": "2024-03-28T02:00:38.981844600Z"
    }
   },
   "id": "initial_id"
  },
  {
   "cell_type": "markdown",
   "source": [
    "# TRB CDR3"
   ],
   "metadata": {
    "collapsed": false
   },
   "id": "6c97bb897d3c761f"
  },
  {
   "cell_type": "code",
   "execution_count": 3,
   "outputs": [
    {
     "name": "stdout",
     "output_type": "stream",
     "text": [
      "(21, 10, 4)\n"
     ]
    }
   ],
   "source": [
    "train_folder = 'data/training_data/'\n",
    "test_folder = 'data/true_set/'\n",
    "model_path_trb = 'models/binary_classification_tcra_5_epochs'\n",
    "trb_chain = ['TRB_CDR3']\n",
    "df_b, shape_b = generate_imap_dataset(train_folder, trb_chain, InteractionMapMode.SINGLE)\n",
    "print(shape_b)"
   ],
   "metadata": {
    "collapsed": false,
    "ExecuteTime": {
     "end_time": "2024-03-28T01:25:37.979387400Z",
     "start_time": "2024-03-28T01:25:29.825977700Z"
    }
   },
   "id": "7a27f5dfdf60f756"
  },
  {
   "cell_type": "code",
   "execution_count": 4,
   "outputs": [],
   "source": [
    "model = TCR3DModel(save_path=model_path_trb, input_shape=shape_b, l2=0.0001)"
   ],
   "metadata": {
    "collapsed": false,
    "ExecuteTime": {
     "end_time": "2024-03-28T01:26:19.821287800Z",
     "start_time": "2024-03-28T01:26:18.386566900Z"
    }
   },
   "id": "89fa4b2e45dd061"
  },
  {
   "cell_type": "code",
   "execution_count": null,
   "outputs": [],
   "source": [
    "history = model.train(imap_df=df_b, epochs=5)"
   ],
   "metadata": {
    "collapsed": false
   },
   "id": "46e63d8fec1d276a"
  },
  {
   "cell_type": "code",
   "execution_count": 5,
   "outputs": [
    {
     "name": "stdout",
     "output_type": "stream",
     "text": [
      "shape (21, 10, 4)\n",
      "5/5 [==============================] - 0s 34ms/step\n",
      "shape (21, 10, 4)\n",
      "9/9 [==============================] - 0s 36ms/step\n",
      "shape (21, 10, 4)\n",
      "26/26 [==============================] - 1s 29ms/step\n",
      "shape (21, 10, 4)\n",
      "7/7 [==============================] - 0s 22ms/step\n",
      "shape (21, 10, 4)\n",
      "2/2 [==============================] - 0s 18ms/step\n",
      "shape (21, 10, 4)\n",
      "3/3 [==============================] - 0s 12ms/step\n",
      "shape (21, 10, 4)\n",
      "5/5 [==============================] - 0s 15ms/step\n",
      "shape (21, 10, 4)\n",
      "9/9 [==============================] - 0s 29ms/step\n",
      "shape (21, 10, 4)\n",
      "5/5 [==============================] - 0s 19ms/step\n",
      "shape (21, 10, 4)\n",
      "13/13 [==============================] - 0s 18ms/step\n",
      "shape (21, 10, 4)\n",
      "3/3 [==============================] - 0s 15ms/step\n",
      "shape (21, 10, 4)\n",
      "3/3 [==============================] - 0s 13ms/step\n",
      "shape (21, 10, 4)\n",
      "2/2 [==============================] - 0s 14ms/step\n",
      "shape (21, 10, 4)\n",
      "5/5 [==============================] - 0s 15ms/step\n",
      "shape (21, 10, 4)\n",
      "3/3 [==============================] - 0s 10ms/step\n",
      "shape (21, 10, 4)\n",
      "10/10 [==============================] - 0s 17ms/step\n",
      "shape (21, 10, 4)\n",
      "13/13 [==============================] - 0s 17ms/step\n"
     ]
    }
   ],
   "source": [
    "test_data_b = generate_test_data(test_folder, trb_chain, InteractionMapMode.SINGLE, shape_b)\n",
    "auc_scores = model.evaluate(test_data_b)"
   ],
   "metadata": {
    "collapsed": false,
    "ExecuteTime": {
     "end_time": "2024-03-28T01:26:34.532307900Z",
     "start_time": "2024-03-28T01:26:23.841488400Z"
    }
   },
   "id": "6be0f2d26923aeb2"
  },
  {
   "cell_type": "code",
   "execution_count": 6,
   "outputs": [
    {
     "name": "stdout",
     "output_type": "stream",
     "text": [
      "0.7629030058406814\n"
     ]
    }
   ],
   "source": [
    "print(sum(auc_scores.values()) / len(auc_scores))"
   ],
   "metadata": {
    "collapsed": false,
    "ExecuteTime": {
     "end_time": "2024-03-28T01:26:47.027550100Z",
     "start_time": "2024-03-28T01:26:45.995549700Z"
    }
   },
   "id": "2ee0d19a7c2953da"
  },
  {
   "cell_type": "markdown",
   "source": [
    "# TRA CDR3"
   ],
   "metadata": {
    "collapsed": false
   },
   "id": "129b15ee7e612f48"
  },
  {
   "cell_type": "code",
   "execution_count": 12,
   "outputs": [],
   "source": [
    "model_path_tra = 'temp_models/binary_classification_tra_5epochs'\n",
    "tra_chain = ['TRA_CDR3']\n",
    "df_a, shape_a = generate_imap_dataset(train_folder, tra_chain, InteractionMapMode.SINGLE)"
   ],
   "metadata": {
    "collapsed": false,
    "ExecuteTime": {
     "end_time": "2024-03-28T02:01:19.080383900Z",
     "start_time": "2024-03-28T02:01:13.616355800Z"
    }
   },
   "id": "e0eb2e52fd6771cb"
  },
  {
   "cell_type": "code",
   "execution_count": 16,
   "outputs": [],
   "source": [
    "model = TCR3DModel(save_path=model_path_tra, input_shape=shape_a, l2=0.0001)"
   ],
   "metadata": {
    "collapsed": false,
    "ExecuteTime": {
     "end_time": "2024-03-28T02:02:43.433098400Z",
     "start_time": "2024-03-28T02:02:42.618098700Z"
    }
   },
   "id": "2cb0dbb1cd8ba97c"
  },
  {
   "cell_type": "code",
   "execution_count": 17,
   "outputs": [
    {
     "name": "stdout",
     "output_type": "stream",
     "text": [
      "Epoch 1/5\n",
      "368/368 [==============================] - 35s 91ms/step - loss: 0.5244 - accuracy: 0.8367 - roc_auc: 0.6070 - precision: 0.6765 - recall: 0.0581 - val_loss: 0.4799 - val_accuracy: 0.8541 - val_roc_auc: 0.6897 - val_precision: 0.9286 - val_recall: 0.0839\n",
      "Epoch 2/5\n",
      "368/368 [==============================] - 35s 95ms/step - loss: 0.4740 - accuracy: 0.8565 - roc_auc: 0.7079 - precision: 0.7901 - recall: 0.2015 - val_loss: 0.4653 - val_accuracy: 0.8613 - val_roc_auc: 0.7327 - val_precision: 0.6863 - val_recall: 0.2258\n",
      "Epoch 3/5\n",
      "368/368 [==============================] - 41s 111ms/step - loss: 0.4466 - accuracy: 0.8640 - roc_auc: 0.7584 - precision: 0.7806 - recall: 0.2677 - val_loss: 0.4480 - val_accuracy: 0.8691 - val_roc_auc: 0.7301 - val_precision: 0.7597 - val_recall: 0.2516\n",
      "Epoch 4/5\n",
      "368/368 [==============================] - 37s 100ms/step - loss: 0.4273 - accuracy: 0.8716 - roc_auc: 0.7889 - precision: 0.7859 - recall: 0.3263 - val_loss: 0.4380 - val_accuracy: 0.8711 - val_roc_auc: 0.7535 - val_precision: 0.7722 - val_recall: 0.2624\n",
      "Epoch 5/5\n",
      "368/368 [==============================] - 37s 100ms/step - loss: 0.4132 - accuracy: 0.8781 - roc_auc: 0.8112 - precision: 0.8009 - recall: 0.3677 - val_loss: 0.4333 - val_accuracy: 0.8735 - val_roc_auc: 0.7560 - val_precision: 0.7853 - val_recall: 0.2753\n",
      "INFO:tensorflow:Assets written to: temp_models/binary_classification_tra_5epochs\\assets\n"
     ]
    },
    {
     "name": "stderr",
     "output_type": "stream",
     "text": [
      "INFO:tensorflow:Assets written to: temp_models/binary_classification_tra_5epochs\\assets\n"
     ]
    }
   ],
   "source": [
    "history = model.train(imap_df=df_a, epochs=5)"
   ],
   "metadata": {
    "collapsed": false,
    "ExecuteTime": {
     "end_time": "2024-03-28T02:05:52.816900800Z",
     "start_time": "2024-03-28T02:02:44.809080700Z"
    }
   },
   "id": "b6a4a2b06bd6fa30"
  },
  {
   "cell_type": "code",
   "execution_count": 18,
   "outputs": [
    {
     "name": "stdout",
     "output_type": "stream",
     "text": [
      "shape (23, 10, 4)\n",
      "5/5 [==============================] - 0s 21ms/step\n",
      "shape (23, 10, 4)\n",
      "9/9 [==============================] - 0s 24ms/step\n",
      "shape (23, 10, 4)\n",
      "26/26 [==============================] - 1s 24ms/step\n",
      "shape (23, 10, 4)\n",
      "7/7 [==============================] - 0s 23ms/step\n",
      "shape (23, 10, 4)\n",
      "2/2 [==============================] - 0s 24ms/step\n",
      "shape (23, 10, 4)\n",
      "3/3 [==============================] - 0s 13ms/step\n",
      "shape (23, 10, 4)\n",
      "5/5 [==============================] - 0s 19ms/step\n",
      "shape (23, 10, 4)\n",
      "9/9 [==============================] - 0s 24ms/step\n",
      "shape (23, 10, 4)\n",
      "5/5 [==============================] - 0s 20ms/step\n",
      "shape (23, 10, 4)\n",
      "13/13 [==============================] - 0s 22ms/step\n",
      "shape (23, 10, 4)\n",
      "3/3 [==============================] - 0s 23ms/step\n",
      "shape (23, 10, 4)\n",
      "3/3 [==============================] - 0s 22ms/step\n",
      "shape (23, 10, 4)\n",
      "2/2 [==============================] - 0s 18ms/step\n",
      "shape (23, 10, 4)\n",
      "5/5 [==============================] - 0s 28ms/step\n",
      "shape (23, 10, 4)\n",
      "3/3 [==============================] - 0s 31ms/step\n",
      "shape (23, 10, 4)\n",
      "10/10 [==============================] - 0s 22ms/step\n",
      "shape (23, 10, 4)\n",
      "13/13 [==============================] - 0s 23ms/step\n"
     ]
    }
   ],
   "source": [
    "test_data_a = generate_test_data(test_folder, tra_chain, InteractionMapMode.SINGLE, shape_a)\n",
    "\n",
    "auc_scores = model.evaluate(test_data_a)"
   ],
   "metadata": {
    "collapsed": false,
    "ExecuteTime": {
     "end_time": "2024-03-28T02:06:06.345305700Z",
     "start_time": "2024-03-28T02:05:56.867614100Z"
    }
   },
   "id": "c1453763fdce0477"
  },
  {
   "cell_type": "code",
   "execution_count": 19,
   "outputs": [
    {
     "name": "stdout",
     "output_type": "stream",
     "text": [
      "0.7368272340085229\n"
     ]
    }
   ],
   "source": [
    "print(sum(auc_scores.values()) / len(auc_scores))"
   ],
   "metadata": {
    "collapsed": false,
    "ExecuteTime": {
     "end_time": "2024-03-28T02:06:17.497565700Z",
     "start_time": "2024-03-28T02:06:17.100567500Z"
    }
   },
   "id": "3f52e6226667eec8"
  },
  {
   "cell_type": "markdown",
   "source": [
    "# TRA and TRB concatenated"
   ],
   "metadata": {
    "collapsed": false
   },
   "id": "19b6ff632151b68a"
  },
  {
   "cell_type": "code",
   "execution_count": 20,
   "outputs": [],
   "source": [
    "model_path_trab = 'temp_models/binary_classification_trab_concat_5epochs'\n",
    "trab_chains = ['TRA_CDR3', 'TRB_CDR3']\n",
    "df_ab, shape_ab = generate_imap_dataset(train_folder,trab_chains, InteractionMapMode.CONCATENATE)"
   ],
   "metadata": {
    "collapsed": false,
    "ExecuteTime": {
     "end_time": "2024-03-28T02:08:16.690773300Z",
     "start_time": "2024-03-28T02:08:09.405576600Z"
    }
   },
   "id": "9c0ea10ebc5bc941"
  },
  {
   "cell_type": "code",
   "execution_count": 21,
   "outputs": [
    {
     "data": {
      "text/plain": "(38, 10, 4)"
     },
     "execution_count": 21,
     "metadata": {},
     "output_type": "execute_result"
    }
   ],
   "source": [
    "shape_ab"
   ],
   "metadata": {
    "collapsed": false,
    "ExecuteTime": {
     "end_time": "2024-03-28T02:08:19.749558200Z",
     "start_time": "2024-03-28T02:08:19.026562300Z"
    }
   },
   "id": "74b6b06c174a1830"
  },
  {
   "cell_type": "code",
   "execution_count": 63,
   "outputs": [],
   "source": [
    "model = TCR3DModel(save_path=model_path_trab, input_shape=shape_ab, l2=0.001)"
   ],
   "metadata": {
    "collapsed": false,
    "ExecuteTime": {
     "end_time": "2024-03-28T03:31:06.085712900Z",
     "start_time": "2024-03-28T03:31:05.280715200Z"
    }
   },
   "id": "9f2646b2f673e6fe"
  },
  {
   "cell_type": "code",
   "execution_count": 64,
   "outputs": [
    {
     "name": "stdout",
     "output_type": "stream",
     "text": [
      "Epoch 1/20\n",
      "368/368 [==============================] - 38s 100ms/step - loss: 1.0815 - accuracy: 0.8399 - roc_auc: 0.6292 - precision: 0.6351 - recall: 0.1152 - val_loss: 0.9045 - val_accuracy: 0.8531 - val_roc_auc: 0.6735 - val_precision: 0.7324 - val_recall: 0.1118\n",
      "Epoch 2/20\n",
      "368/368 [==============================] - 35s 94ms/step - loss: 0.7702 - accuracy: 0.8580 - roc_auc: 0.7142 - precision: 0.8016 - recall: 0.2081 - val_loss: 0.6796 - val_accuracy: 0.8647 - val_roc_auc: 0.7374 - val_precision: 0.7310 - val_recall: 0.2280\n",
      "Epoch 3/20\n",
      "368/368 [==============================] - 34s 94ms/step - loss: 0.6177 - accuracy: 0.8624 - roc_auc: 0.7587 - precision: 0.7929 - recall: 0.2475 - val_loss: 0.5797 - val_accuracy: 0.8667 - val_roc_auc: 0.7304 - val_precision: 0.7704 - val_recall: 0.2237\n",
      "Epoch 4/20\n",
      "368/368 [==============================] - 44s 118ms/step - loss: 0.5372 - accuracy: 0.8710 - roc_auc: 0.7933 - precision: 0.8284 - recall: 0.2949 - val_loss: 0.5296 - val_accuracy: 0.8722 - val_roc_auc: 0.7540 - val_precision: 0.8450 - val_recall: 0.2344\n",
      "Epoch 5/20\n",
      "368/368 [==============================] - 37s 100ms/step - loss: 0.5019 - accuracy: 0.8786 - roc_auc: 0.8075 - precision: 0.8172 - recall: 0.3591 - val_loss: 0.6118 - val_accuracy: 0.8337 - val_roc_auc: 0.7328 - val_precision: 0.4615 - val_recall: 0.3097\n",
      "Epoch 6/20\n",
      "368/368 [==============================] - 47s 127ms/step - loss: 0.4837 - accuracy: 0.8827 - roc_auc: 0.8184 - precision: 0.8171 - recall: 0.3904 - val_loss: 0.5133 - val_accuracy: 0.8749 - val_roc_auc: 0.7752 - val_precision: 0.8255 - val_recall: 0.2645\n",
      "Epoch 7/20\n",
      "368/368 [==============================] - 56s 152ms/step - loss: 0.4671 - accuracy: 0.8846 - roc_auc: 0.8368 - precision: 0.8188 - recall: 0.4040 - val_loss: 0.5033 - val_accuracy: 0.8745 - val_roc_auc: 0.7653 - val_precision: 0.8429 - val_recall: 0.2538\n",
      "Epoch 8/20\n",
      "368/368 [==============================] - 53s 143ms/step - loss: 0.4588 - accuracy: 0.8884 - roc_auc: 0.8520 - precision: 0.8161 - recall: 0.4348 - val_loss: 0.5049 - val_accuracy: 0.8800 - val_roc_auc: 0.7977 - val_precision: 0.8415 - val_recall: 0.2968\n",
      "Epoch 9/20\n",
      "368/368 [==============================] - 49s 132ms/step - loss: 0.4535 - accuracy: 0.8883 - roc_auc: 0.8596 - precision: 0.8196 - recall: 0.4313 - val_loss: 0.4941 - val_accuracy: 0.8834 - val_roc_auc: 0.7763 - val_precision: 0.8675 - val_recall: 0.3097\n",
      "Epoch 10/20\n",
      "368/368 [==============================] - 51s 140ms/step - loss: 0.4420 - accuracy: 0.8928 - roc_auc: 0.8734 - precision: 0.8357 - recall: 0.4520 - val_loss: 0.5022 - val_accuracy: 0.8762 - val_roc_auc: 0.7809 - val_precision: 0.7463 - val_recall: 0.3290\n",
      "Epoch 11/20\n",
      "368/368 [==============================] - 49s 132ms/step - loss: 0.4389 - accuracy: 0.8954 - roc_auc: 0.8772 - precision: 0.8307 - recall: 0.4758 - val_loss: 0.5080 - val_accuracy: 0.8762 - val_roc_auc: 0.7803 - val_precision: 0.9174 - val_recall: 0.2387\n",
      "Epoch 12/20\n",
      "368/368 [==============================] - 45s 121ms/step - loss: 0.4365 - accuracy: 0.8962 - roc_auc: 0.8873 - precision: 0.8252 - recall: 0.4864 - val_loss: 0.5503 - val_accuracy: 0.8759 - val_roc_auc: 0.7715 - val_precision: 0.7475 - val_recall: 0.3247\n",
      "Epoch 13/20\n",
      "368/368 [==============================] - 48s 131ms/step - loss: 0.4304 - accuracy: 0.8963 - roc_auc: 0.8965 - precision: 0.8249 - recall: 0.4879 - val_loss: 0.5180 - val_accuracy: 0.8793 - val_roc_auc: 0.7930 - val_precision: 0.7371 - val_recall: 0.3677\n",
      "Epoch 14/20\n",
      "171/368 [============>.................] - ETA: 24s - loss: 0.4180 - accuracy: 0.9053 - roc_auc: 0.9059 - precision: 0.8278 - recall: 0.5470"
     ]
    },
    {
     "ename": "KeyboardInterrupt",
     "evalue": "",
     "output_type": "error",
     "traceback": [
      "\u001B[1;31m---------------------------------------------------------------------------\u001B[0m",
      "\u001B[1;31mKeyboardInterrupt\u001B[0m                         Traceback (most recent call last)",
      "Cell \u001B[1;32mIn[64], line 1\u001B[0m\n\u001B[1;32m----> 1\u001B[0m history \u001B[38;5;241m=\u001B[39m \u001B[43mmodel\u001B[49m\u001B[38;5;241;43m.\u001B[39;49m\u001B[43mtrain\u001B[49m\u001B[43m(\u001B[49m\u001B[43mimap_df\u001B[49m\u001B[38;5;241;43m=\u001B[39;49m\u001B[43mdf_ab\u001B[49m\u001B[43m,\u001B[49m\u001B[43m \u001B[49m\u001B[43mepochs\u001B[49m\u001B[38;5;241;43m=\u001B[39;49m\u001B[38;5;241;43m20\u001B[39;49m\u001B[43m)\u001B[49m\n",
      "File \u001B[1;32m~\\Desktop\\Internship\\ImmuneSystemDM\\src\\models\\AbstractModel.py:93\u001B[0m, in \u001B[0;36mAbstractModel.train\u001B[1;34m(self, imap_df, epochs, image_loss_path, image_metrics_path)\u001B[0m\n\u001B[0;32m     90\u001B[0m train_data \u001B[38;5;241m=\u001B[39m train_data\u001B[38;5;241m.\u001B[39mshuffle(buffer_size\u001B[38;5;241m=\u001B[39m\u001B[38;5;28mlen\u001B[39m(train_data), seed\u001B[38;5;241m=\u001B[39m\u001B[38;5;241m42\u001B[39m, reshuffle_each_iteration\u001B[38;5;241m=\u001B[39m\u001B[38;5;28;01mTrue\u001B[39;00m)\u001B[38;5;241m.\u001B[39mbatch(\u001B[38;5;241m32\u001B[39m)\n\u001B[0;32m     91\u001B[0m val_data \u001B[38;5;241m=\u001B[39m val_data\u001B[38;5;241m.\u001B[39mbatch(\u001B[38;5;241m32\u001B[39m)\n\u001B[1;32m---> 93\u001B[0m history \u001B[38;5;241m=\u001B[39m \u001B[38;5;28;43mself\u001B[39;49m\u001B[38;5;241;43m.\u001B[39;49m\u001B[43mmodel\u001B[49m\u001B[38;5;241;43m.\u001B[39;49m\u001B[43mfit\u001B[49m\u001B[43m(\u001B[49m\n\u001B[0;32m     94\u001B[0m \u001B[43m    \u001B[49m\u001B[43mx\u001B[49m\u001B[38;5;241;43m=\u001B[39;49m\u001B[43mtrain_data\u001B[49m\u001B[43m,\u001B[49m\n\u001B[0;32m     95\u001B[0m \u001B[43m    \u001B[49m\u001B[43mepochs\u001B[49m\u001B[38;5;241;43m=\u001B[39;49m\u001B[43mepochs\u001B[49m\u001B[43m,\u001B[49m\n\u001B[0;32m     96\u001B[0m \u001B[43m    \u001B[49m\u001B[43mvalidation_data\u001B[49m\u001B[38;5;241;43m=\u001B[39;49m\u001B[43mval_data\u001B[49m\u001B[43m,\u001B[49m\n\u001B[0;32m     97\u001B[0m \u001B[43m    \u001B[49m\u001B[43mclass_weight\u001B[49m\u001B[38;5;241;43m=\u001B[39;49m\u001B[38;5;28;43;01mNone\u001B[39;49;00m\u001B[43m,\u001B[49m\n\u001B[0;32m     98\u001B[0m \u001B[43m    \u001B[49m\u001B[43mmax_queue_size\u001B[49m\u001B[38;5;241;43m=\u001B[39;49m\u001B[38;5;241;43m2\u001B[39;49m\u001B[43m,\u001B[49m\n\u001B[0;32m     99\u001B[0m \u001B[43m    \u001B[49m\u001B[43muse_multiprocessing\u001B[49m\u001B[38;5;241;43m=\u001B[39;49m\u001B[38;5;28;43;01mTrue\u001B[39;49;00m\u001B[43m,\u001B[49m\n\u001B[0;32m    100\u001B[0m \u001B[43m    \u001B[49m\u001B[43mverbose\u001B[49m\u001B[38;5;241;43m=\u001B[39;49m\u001B[38;5;241;43m1\u001B[39;49m\u001B[43m,\u001B[49m\n\u001B[0;32m    101\u001B[0m \u001B[43m    \u001B[49m\u001B[43mshuffle\u001B[49m\u001B[38;5;241;43m=\u001B[39;49m\u001B[38;5;28;43;01mFalse\u001B[39;49;00m\u001B[43m,\u001B[49m\n\u001B[0;32m    102\u001B[0m \u001B[43m\u001B[49m\u001B[43m)\u001B[49m\n\u001B[0;32m    104\u001B[0m \u001B[38;5;28mself\u001B[39m\u001B[38;5;241m.\u001B[39mmodel\u001B[38;5;241m.\u001B[39msave(\u001B[38;5;28mself\u001B[39m\u001B[38;5;241m.\u001B[39msave_path)\n\u001B[0;32m    105\u001B[0m \u001B[38;5;28mself\u001B[39m\u001B[38;5;241m.\u001B[39mis_trained \u001B[38;5;241m=\u001B[39m \u001B[38;5;28;01mTrue\u001B[39;00m\n",
      "File \u001B[1;32m~\\Desktop\\Internship\\ImmuneSystemDM\\venv\\lib\\site-packages\\keras\\src\\utils\\traceback_utils.py:65\u001B[0m, in \u001B[0;36mfilter_traceback.<locals>.error_handler\u001B[1;34m(*args, **kwargs)\u001B[0m\n\u001B[0;32m     63\u001B[0m filtered_tb \u001B[38;5;241m=\u001B[39m \u001B[38;5;28;01mNone\u001B[39;00m\n\u001B[0;32m     64\u001B[0m \u001B[38;5;28;01mtry\u001B[39;00m:\n\u001B[1;32m---> 65\u001B[0m     \u001B[38;5;28;01mreturn\u001B[39;00m fn(\u001B[38;5;241m*\u001B[39margs, \u001B[38;5;241m*\u001B[39m\u001B[38;5;241m*\u001B[39mkwargs)\n\u001B[0;32m     66\u001B[0m \u001B[38;5;28;01mexcept\u001B[39;00m \u001B[38;5;167;01mException\u001B[39;00m \u001B[38;5;28;01mas\u001B[39;00m e:\n\u001B[0;32m     67\u001B[0m     filtered_tb \u001B[38;5;241m=\u001B[39m _process_traceback_frames(e\u001B[38;5;241m.\u001B[39m__traceback__)\n",
      "File \u001B[1;32m~\\Desktop\\Internship\\ImmuneSystemDM\\venv\\lib\\site-packages\\keras\\src\\engine\\training.py:1783\u001B[0m, in \u001B[0;36mModel.fit\u001B[1;34m(self, x, y, batch_size, epochs, verbose, callbacks, validation_split, validation_data, shuffle, class_weight, sample_weight, initial_epoch, steps_per_epoch, validation_steps, validation_batch_size, validation_freq, max_queue_size, workers, use_multiprocessing)\u001B[0m\n\u001B[0;32m   1775\u001B[0m \u001B[38;5;28;01mwith\u001B[39;00m tf\u001B[38;5;241m.\u001B[39mprofiler\u001B[38;5;241m.\u001B[39mexperimental\u001B[38;5;241m.\u001B[39mTrace(\n\u001B[0;32m   1776\u001B[0m     \u001B[38;5;124m\"\u001B[39m\u001B[38;5;124mtrain\u001B[39m\u001B[38;5;124m\"\u001B[39m,\n\u001B[0;32m   1777\u001B[0m     epoch_num\u001B[38;5;241m=\u001B[39mepoch,\n\u001B[1;32m   (...)\u001B[0m\n\u001B[0;32m   1780\u001B[0m     _r\u001B[38;5;241m=\u001B[39m\u001B[38;5;241m1\u001B[39m,\n\u001B[0;32m   1781\u001B[0m ):\n\u001B[0;32m   1782\u001B[0m     callbacks\u001B[38;5;241m.\u001B[39mon_train_batch_begin(step)\n\u001B[1;32m-> 1783\u001B[0m     tmp_logs \u001B[38;5;241m=\u001B[39m \u001B[38;5;28;43mself\u001B[39;49m\u001B[38;5;241;43m.\u001B[39;49m\u001B[43mtrain_function\u001B[49m\u001B[43m(\u001B[49m\u001B[43miterator\u001B[49m\u001B[43m)\u001B[49m\n\u001B[0;32m   1784\u001B[0m     \u001B[38;5;28;01mif\u001B[39;00m data_handler\u001B[38;5;241m.\u001B[39mshould_sync:\n\u001B[0;32m   1785\u001B[0m         context\u001B[38;5;241m.\u001B[39masync_wait()\n",
      "File \u001B[1;32m~\\Desktop\\Internship\\ImmuneSystemDM\\venv\\lib\\site-packages\\tensorflow\\python\\util\\traceback_utils.py:150\u001B[0m, in \u001B[0;36mfilter_traceback.<locals>.error_handler\u001B[1;34m(*args, **kwargs)\u001B[0m\n\u001B[0;32m    148\u001B[0m filtered_tb \u001B[38;5;241m=\u001B[39m \u001B[38;5;28;01mNone\u001B[39;00m\n\u001B[0;32m    149\u001B[0m \u001B[38;5;28;01mtry\u001B[39;00m:\n\u001B[1;32m--> 150\u001B[0m   \u001B[38;5;28;01mreturn\u001B[39;00m fn(\u001B[38;5;241m*\u001B[39margs, \u001B[38;5;241m*\u001B[39m\u001B[38;5;241m*\u001B[39mkwargs)\n\u001B[0;32m    151\u001B[0m \u001B[38;5;28;01mexcept\u001B[39;00m \u001B[38;5;167;01mException\u001B[39;00m \u001B[38;5;28;01mas\u001B[39;00m e:\n\u001B[0;32m    152\u001B[0m   filtered_tb \u001B[38;5;241m=\u001B[39m _process_traceback_frames(e\u001B[38;5;241m.\u001B[39m__traceback__)\n",
      "File \u001B[1;32m~\\Desktop\\Internship\\ImmuneSystemDM\\venv\\lib\\site-packages\\tensorflow\\python\\eager\\polymorphic_function\\polymorphic_function.py:831\u001B[0m, in \u001B[0;36mFunction.__call__\u001B[1;34m(self, *args, **kwds)\u001B[0m\n\u001B[0;32m    828\u001B[0m compiler \u001B[38;5;241m=\u001B[39m \u001B[38;5;124m\"\u001B[39m\u001B[38;5;124mxla\u001B[39m\u001B[38;5;124m\"\u001B[39m \u001B[38;5;28;01mif\u001B[39;00m \u001B[38;5;28mself\u001B[39m\u001B[38;5;241m.\u001B[39m_jit_compile \u001B[38;5;28;01melse\u001B[39;00m \u001B[38;5;124m\"\u001B[39m\u001B[38;5;124mnonXla\u001B[39m\u001B[38;5;124m\"\u001B[39m\n\u001B[0;32m    830\u001B[0m \u001B[38;5;28;01mwith\u001B[39;00m OptionalXlaContext(\u001B[38;5;28mself\u001B[39m\u001B[38;5;241m.\u001B[39m_jit_compile):\n\u001B[1;32m--> 831\u001B[0m   result \u001B[38;5;241m=\u001B[39m \u001B[38;5;28mself\u001B[39m\u001B[38;5;241m.\u001B[39m_call(\u001B[38;5;241m*\u001B[39margs, \u001B[38;5;241m*\u001B[39m\u001B[38;5;241m*\u001B[39mkwds)\n\u001B[0;32m    833\u001B[0m new_tracing_count \u001B[38;5;241m=\u001B[39m \u001B[38;5;28mself\u001B[39m\u001B[38;5;241m.\u001B[39mexperimental_get_tracing_count()\n\u001B[0;32m    834\u001B[0m without_tracing \u001B[38;5;241m=\u001B[39m (tracing_count \u001B[38;5;241m==\u001B[39m new_tracing_count)\n",
      "File \u001B[1;32m~\\Desktop\\Internship\\ImmuneSystemDM\\venv\\lib\\site-packages\\tensorflow\\python\\eager\\polymorphic_function\\polymorphic_function.py:867\u001B[0m, in \u001B[0;36mFunction._call\u001B[1;34m(self, *args, **kwds)\u001B[0m\n\u001B[0;32m    864\u001B[0m   \u001B[38;5;28mself\u001B[39m\u001B[38;5;241m.\u001B[39m_lock\u001B[38;5;241m.\u001B[39mrelease()\n\u001B[0;32m    865\u001B[0m   \u001B[38;5;66;03m# In this case we have created variables on the first call, so we run the\u001B[39;00m\n\u001B[0;32m    866\u001B[0m   \u001B[38;5;66;03m# defunned version which is guaranteed to never create variables.\u001B[39;00m\n\u001B[1;32m--> 867\u001B[0m   \u001B[38;5;28;01mreturn\u001B[39;00m \u001B[43mtracing_compilation\u001B[49m\u001B[38;5;241;43m.\u001B[39;49m\u001B[43mcall_function\u001B[49m\u001B[43m(\u001B[49m\n\u001B[0;32m    868\u001B[0m \u001B[43m      \u001B[49m\u001B[43margs\u001B[49m\u001B[43m,\u001B[49m\u001B[43m \u001B[49m\u001B[43mkwds\u001B[49m\u001B[43m,\u001B[49m\u001B[43m \u001B[49m\u001B[38;5;28;43mself\u001B[39;49m\u001B[38;5;241;43m.\u001B[39;49m\u001B[43m_no_variable_creation_config\u001B[49m\n\u001B[0;32m    869\u001B[0m \u001B[43m  \u001B[49m\u001B[43m)\u001B[49m\n\u001B[0;32m    870\u001B[0m \u001B[38;5;28;01melif\u001B[39;00m \u001B[38;5;28mself\u001B[39m\u001B[38;5;241m.\u001B[39m_variable_creation_config \u001B[38;5;129;01mis\u001B[39;00m \u001B[38;5;129;01mnot\u001B[39;00m \u001B[38;5;28;01mNone\u001B[39;00m:\n\u001B[0;32m    871\u001B[0m   \u001B[38;5;66;03m# Release the lock early so that multiple threads can perform the call\u001B[39;00m\n\u001B[0;32m    872\u001B[0m   \u001B[38;5;66;03m# in parallel.\u001B[39;00m\n\u001B[0;32m    873\u001B[0m   \u001B[38;5;28mself\u001B[39m\u001B[38;5;241m.\u001B[39m_lock\u001B[38;5;241m.\u001B[39mrelease()\n",
      "File \u001B[1;32m~\\Desktop\\Internship\\ImmuneSystemDM\\venv\\lib\\site-packages\\tensorflow\\python\\eager\\polymorphic_function\\tracing_compilation.py:139\u001B[0m, in \u001B[0;36mcall_function\u001B[1;34m(args, kwargs, tracing_options)\u001B[0m\n\u001B[0;32m    137\u001B[0m bound_args \u001B[38;5;241m=\u001B[39m function\u001B[38;5;241m.\u001B[39mfunction_type\u001B[38;5;241m.\u001B[39mbind(\u001B[38;5;241m*\u001B[39margs, \u001B[38;5;241m*\u001B[39m\u001B[38;5;241m*\u001B[39mkwargs)\n\u001B[0;32m    138\u001B[0m flat_inputs \u001B[38;5;241m=\u001B[39m function\u001B[38;5;241m.\u001B[39mfunction_type\u001B[38;5;241m.\u001B[39munpack_inputs(bound_args)\n\u001B[1;32m--> 139\u001B[0m \u001B[38;5;28;01mreturn\u001B[39;00m \u001B[43mfunction\u001B[49m\u001B[38;5;241;43m.\u001B[39;49m\u001B[43m_call_flat\u001B[49m\u001B[43m(\u001B[49m\u001B[43m  \u001B[49m\u001B[38;5;66;43;03m# pylint: disable=protected-access\u001B[39;49;00m\n\u001B[0;32m    140\u001B[0m \u001B[43m    \u001B[49m\u001B[43mflat_inputs\u001B[49m\u001B[43m,\u001B[49m\u001B[43m \u001B[49m\u001B[43mcaptured_inputs\u001B[49m\u001B[38;5;241;43m=\u001B[39;49m\u001B[43mfunction\u001B[49m\u001B[38;5;241;43m.\u001B[39;49m\u001B[43mcaptured_inputs\u001B[49m\n\u001B[0;32m    141\u001B[0m \u001B[43m\u001B[49m\u001B[43m)\u001B[49m\n",
      "File \u001B[1;32m~\\Desktop\\Internship\\ImmuneSystemDM\\venv\\lib\\site-packages\\tensorflow\\python\\eager\\polymorphic_function\\concrete_function.py:1264\u001B[0m, in \u001B[0;36mConcreteFunction._call_flat\u001B[1;34m(self, tensor_inputs, captured_inputs)\u001B[0m\n\u001B[0;32m   1260\u001B[0m possible_gradient_type \u001B[38;5;241m=\u001B[39m gradients_util\u001B[38;5;241m.\u001B[39mPossibleTapeGradientTypes(args)\n\u001B[0;32m   1261\u001B[0m \u001B[38;5;28;01mif\u001B[39;00m (possible_gradient_type \u001B[38;5;241m==\u001B[39m gradients_util\u001B[38;5;241m.\u001B[39mPOSSIBLE_GRADIENT_TYPES_NONE\n\u001B[0;32m   1262\u001B[0m     \u001B[38;5;129;01mand\u001B[39;00m executing_eagerly):\n\u001B[0;32m   1263\u001B[0m   \u001B[38;5;66;03m# No tape is watching; skip to running the function.\u001B[39;00m\n\u001B[1;32m-> 1264\u001B[0m   \u001B[38;5;28;01mreturn\u001B[39;00m \u001B[38;5;28;43mself\u001B[39;49m\u001B[38;5;241;43m.\u001B[39;49m\u001B[43m_inference_function\u001B[49m\u001B[38;5;241;43m.\u001B[39;49m\u001B[43mflat_call\u001B[49m\u001B[43m(\u001B[49m\u001B[43margs\u001B[49m\u001B[43m)\u001B[49m\n\u001B[0;32m   1265\u001B[0m forward_backward \u001B[38;5;241m=\u001B[39m \u001B[38;5;28mself\u001B[39m\u001B[38;5;241m.\u001B[39m_select_forward_and_backward_functions(\n\u001B[0;32m   1266\u001B[0m     args,\n\u001B[0;32m   1267\u001B[0m     possible_gradient_type,\n\u001B[0;32m   1268\u001B[0m     executing_eagerly)\n\u001B[0;32m   1269\u001B[0m forward_function, args_with_tangents \u001B[38;5;241m=\u001B[39m forward_backward\u001B[38;5;241m.\u001B[39mforward()\n",
      "File \u001B[1;32m~\\Desktop\\Internship\\ImmuneSystemDM\\venv\\lib\\site-packages\\tensorflow\\python\\eager\\polymorphic_function\\atomic_function.py:217\u001B[0m, in \u001B[0;36mAtomicFunction.flat_call\u001B[1;34m(self, args)\u001B[0m\n\u001B[0;32m    215\u001B[0m \u001B[38;5;28;01mdef\u001B[39;00m \u001B[38;5;21mflat_call\u001B[39m(\u001B[38;5;28mself\u001B[39m, args: Sequence[core\u001B[38;5;241m.\u001B[39mTensor]) \u001B[38;5;241m-\u001B[39m\u001B[38;5;241m>\u001B[39m Any:\n\u001B[0;32m    216\u001B[0m \u001B[38;5;250m  \u001B[39m\u001B[38;5;124;03m\"\"\"Calls with tensor inputs and returns the structured output.\"\"\"\u001B[39;00m\n\u001B[1;32m--> 217\u001B[0m   flat_outputs \u001B[38;5;241m=\u001B[39m \u001B[38;5;28;43mself\u001B[39;49m\u001B[43m(\u001B[49m\u001B[38;5;241;43m*\u001B[39;49m\u001B[43margs\u001B[49m\u001B[43m)\u001B[49m\n\u001B[0;32m    218\u001B[0m   \u001B[38;5;28;01mreturn\u001B[39;00m \u001B[38;5;28mself\u001B[39m\u001B[38;5;241m.\u001B[39mfunction_type\u001B[38;5;241m.\u001B[39mpack_output(flat_outputs)\n",
      "File \u001B[1;32m~\\Desktop\\Internship\\ImmuneSystemDM\\venv\\lib\\site-packages\\tensorflow\\python\\eager\\polymorphic_function\\atomic_function.py:252\u001B[0m, in \u001B[0;36mAtomicFunction.__call__\u001B[1;34m(self, *args)\u001B[0m\n\u001B[0;32m    250\u001B[0m \u001B[38;5;28;01mwith\u001B[39;00m record\u001B[38;5;241m.\u001B[39mstop_recording():\n\u001B[0;32m    251\u001B[0m   \u001B[38;5;28;01mif\u001B[39;00m \u001B[38;5;28mself\u001B[39m\u001B[38;5;241m.\u001B[39m_bound_context\u001B[38;5;241m.\u001B[39mexecuting_eagerly():\n\u001B[1;32m--> 252\u001B[0m     outputs \u001B[38;5;241m=\u001B[39m \u001B[38;5;28;43mself\u001B[39;49m\u001B[38;5;241;43m.\u001B[39;49m\u001B[43m_bound_context\u001B[49m\u001B[38;5;241;43m.\u001B[39;49m\u001B[43mcall_function\u001B[49m\u001B[43m(\u001B[49m\n\u001B[0;32m    253\u001B[0m \u001B[43m        \u001B[49m\u001B[38;5;28;43mself\u001B[39;49m\u001B[38;5;241;43m.\u001B[39;49m\u001B[43mname\u001B[49m\u001B[43m,\u001B[49m\n\u001B[0;32m    254\u001B[0m \u001B[43m        \u001B[49m\u001B[38;5;28;43mlist\u001B[39;49m\u001B[43m(\u001B[49m\u001B[43margs\u001B[49m\u001B[43m)\u001B[49m\u001B[43m,\u001B[49m\n\u001B[0;32m    255\u001B[0m \u001B[43m        \u001B[49m\u001B[38;5;28;43mlen\u001B[39;49m\u001B[43m(\u001B[49m\u001B[38;5;28;43mself\u001B[39;49m\u001B[38;5;241;43m.\u001B[39;49m\u001B[43mfunction_type\u001B[49m\u001B[38;5;241;43m.\u001B[39;49m\u001B[43mflat_outputs\u001B[49m\u001B[43m)\u001B[49m\u001B[43m,\u001B[49m\n\u001B[0;32m    256\u001B[0m \u001B[43m    \u001B[49m\u001B[43m)\u001B[49m\n\u001B[0;32m    257\u001B[0m   \u001B[38;5;28;01melse\u001B[39;00m:\n\u001B[0;32m    258\u001B[0m     outputs \u001B[38;5;241m=\u001B[39m make_call_op_in_graph(\n\u001B[0;32m    259\u001B[0m         \u001B[38;5;28mself\u001B[39m,\n\u001B[0;32m    260\u001B[0m         \u001B[38;5;28mlist\u001B[39m(args),\n\u001B[0;32m    261\u001B[0m         \u001B[38;5;28mself\u001B[39m\u001B[38;5;241m.\u001B[39m_bound_context\u001B[38;5;241m.\u001B[39mfunction_call_options\u001B[38;5;241m.\u001B[39mas_attrs(),\n\u001B[0;32m    262\u001B[0m     )\n",
      "File \u001B[1;32m~\\Desktop\\Internship\\ImmuneSystemDM\\venv\\lib\\site-packages\\tensorflow\\python\\eager\\context.py:1479\u001B[0m, in \u001B[0;36mContext.call_function\u001B[1;34m(self, name, tensor_inputs, num_outputs)\u001B[0m\n\u001B[0;32m   1477\u001B[0m cancellation_context \u001B[38;5;241m=\u001B[39m cancellation\u001B[38;5;241m.\u001B[39mcontext()\n\u001B[0;32m   1478\u001B[0m \u001B[38;5;28;01mif\u001B[39;00m cancellation_context \u001B[38;5;129;01mis\u001B[39;00m \u001B[38;5;28;01mNone\u001B[39;00m:\n\u001B[1;32m-> 1479\u001B[0m   outputs \u001B[38;5;241m=\u001B[39m \u001B[43mexecute\u001B[49m\u001B[38;5;241;43m.\u001B[39;49m\u001B[43mexecute\u001B[49m\u001B[43m(\u001B[49m\n\u001B[0;32m   1480\u001B[0m \u001B[43m      \u001B[49m\u001B[43mname\u001B[49m\u001B[38;5;241;43m.\u001B[39;49m\u001B[43mdecode\u001B[49m\u001B[43m(\u001B[49m\u001B[38;5;124;43m\"\u001B[39;49m\u001B[38;5;124;43mutf-8\u001B[39;49m\u001B[38;5;124;43m\"\u001B[39;49m\u001B[43m)\u001B[49m\u001B[43m,\u001B[49m\n\u001B[0;32m   1481\u001B[0m \u001B[43m      \u001B[49m\u001B[43mnum_outputs\u001B[49m\u001B[38;5;241;43m=\u001B[39;49m\u001B[43mnum_outputs\u001B[49m\u001B[43m,\u001B[49m\n\u001B[0;32m   1482\u001B[0m \u001B[43m      \u001B[49m\u001B[43minputs\u001B[49m\u001B[38;5;241;43m=\u001B[39;49m\u001B[43mtensor_inputs\u001B[49m\u001B[43m,\u001B[49m\n\u001B[0;32m   1483\u001B[0m \u001B[43m      \u001B[49m\u001B[43mattrs\u001B[49m\u001B[38;5;241;43m=\u001B[39;49m\u001B[43mattrs\u001B[49m\u001B[43m,\u001B[49m\n\u001B[0;32m   1484\u001B[0m \u001B[43m      \u001B[49m\u001B[43mctx\u001B[49m\u001B[38;5;241;43m=\u001B[39;49m\u001B[38;5;28;43mself\u001B[39;49m\u001B[43m,\u001B[49m\n\u001B[0;32m   1485\u001B[0m \u001B[43m  \u001B[49m\u001B[43m)\u001B[49m\n\u001B[0;32m   1486\u001B[0m \u001B[38;5;28;01melse\u001B[39;00m:\n\u001B[0;32m   1487\u001B[0m   outputs \u001B[38;5;241m=\u001B[39m execute\u001B[38;5;241m.\u001B[39mexecute_with_cancellation(\n\u001B[0;32m   1488\u001B[0m       name\u001B[38;5;241m.\u001B[39mdecode(\u001B[38;5;124m\"\u001B[39m\u001B[38;5;124mutf-8\u001B[39m\u001B[38;5;124m\"\u001B[39m),\n\u001B[0;32m   1489\u001B[0m       num_outputs\u001B[38;5;241m=\u001B[39mnum_outputs,\n\u001B[1;32m   (...)\u001B[0m\n\u001B[0;32m   1493\u001B[0m       cancellation_manager\u001B[38;5;241m=\u001B[39mcancellation_context,\n\u001B[0;32m   1494\u001B[0m   )\n",
      "File \u001B[1;32m~\\Desktop\\Internship\\ImmuneSystemDM\\venv\\lib\\site-packages\\tensorflow\\python\\eager\\execute.py:60\u001B[0m, in \u001B[0;36mquick_execute\u001B[1;34m(op_name, num_outputs, inputs, attrs, ctx, name)\u001B[0m\n\u001B[0;32m     53\u001B[0m   \u001B[38;5;66;03m# Convert any objects of type core_types.Tensor to Tensor.\u001B[39;00m\n\u001B[0;32m     54\u001B[0m   inputs \u001B[38;5;241m=\u001B[39m [\n\u001B[0;32m     55\u001B[0m       tensor_conversion_registry\u001B[38;5;241m.\u001B[39mconvert(t)\n\u001B[0;32m     56\u001B[0m       \u001B[38;5;28;01mif\u001B[39;00m \u001B[38;5;28misinstance\u001B[39m(t, core_types\u001B[38;5;241m.\u001B[39mTensor)\n\u001B[0;32m     57\u001B[0m       \u001B[38;5;28;01melse\u001B[39;00m t\n\u001B[0;32m     58\u001B[0m       \u001B[38;5;28;01mfor\u001B[39;00m t \u001B[38;5;129;01min\u001B[39;00m inputs\n\u001B[0;32m     59\u001B[0m   ]\n\u001B[1;32m---> 60\u001B[0m   tensors \u001B[38;5;241m=\u001B[39m \u001B[43mpywrap_tfe\u001B[49m\u001B[38;5;241;43m.\u001B[39;49m\u001B[43mTFE_Py_Execute\u001B[49m\u001B[43m(\u001B[49m\u001B[43mctx\u001B[49m\u001B[38;5;241;43m.\u001B[39;49m\u001B[43m_handle\u001B[49m\u001B[43m,\u001B[49m\u001B[43m \u001B[49m\u001B[43mdevice_name\u001B[49m\u001B[43m,\u001B[49m\u001B[43m \u001B[49m\u001B[43mop_name\u001B[49m\u001B[43m,\u001B[49m\n\u001B[0;32m     61\u001B[0m \u001B[43m                                      \u001B[49m\u001B[43minputs\u001B[49m\u001B[43m,\u001B[49m\u001B[43m \u001B[49m\u001B[43mattrs\u001B[49m\u001B[43m,\u001B[49m\u001B[43m \u001B[49m\u001B[43mnum_outputs\u001B[49m\u001B[43m)\u001B[49m\n\u001B[0;32m     62\u001B[0m \u001B[38;5;28;01mexcept\u001B[39;00m core\u001B[38;5;241m.\u001B[39m_NotOkStatusException \u001B[38;5;28;01mas\u001B[39;00m e:\n\u001B[0;32m     63\u001B[0m   \u001B[38;5;28;01mif\u001B[39;00m name \u001B[38;5;129;01mis\u001B[39;00m \u001B[38;5;129;01mnot\u001B[39;00m \u001B[38;5;28;01mNone\u001B[39;00m:\n",
      "\u001B[1;31mKeyboardInterrupt\u001B[0m: "
     ]
    }
   ],
   "source": [
    "history = model.train(imap_df=df_ab, epochs=20)"
   ],
   "metadata": {
    "collapsed": false,
    "ExecuteTime": {
     "end_time": "2024-03-28T03:41:18.331100600Z",
     "start_time": "2024-03-28T03:31:10.368428100Z"
    }
   },
   "id": "95e469e2ec18beb9"
  },
  {
   "cell_type": "code",
   "execution_count": 59,
   "outputs": [
    {
     "data": {
      "text/plain": "<Figure size 1000x500 with 1 Axes>",
      "image/png": "[encoded data removed]"
     },
     "metadata": {},
     "output_type": "display_data"
    }
   ],
   "source": [
    "plot_loss(history)"
   ],
   "metadata": {
    "collapsed": false,
    "ExecuteTime": {
     "end_time": "2024-03-28T03:30:28.311299900Z",
     "start_time": "2024-03-28T03:30:27.362305900Z"
    }
   },
   "id": "179cd953369bb4cc"
  },
  {
   "cell_type": "code",
   "execution_count": 60,
   "outputs": [
    {
     "name": "stderr",
     "output_type": "stream",
     "text": [
      "C:\\Users\\moham\\Desktop\\Internship\\ImmuneSystemDM\\src\\visualization\\plotting.py:25: UserWarning: color is redundantly defined by the 'color' keyword argument and the fmt string \"b\" (-> color=(0.0, 0.0, 1.0, 1)). The keyword argument will take precedence.\n",
      "  plt.plot(epochs, history.history['accuracy'], 'b', label='Accuracy', color='blue')\n",
      "C:\\Users\\moham\\Desktop\\Internship\\ImmuneSystemDM\\src\\visualization\\plotting.py:27: UserWarning: color is redundantly defined by the 'color' keyword argument and the fmt string \"b\" (-> color=(0.0, 0.0, 1.0, 1)). The keyword argument will take precedence.\n",
      "  plt.plot(epochs, history.history['val_accuracy'], 'b', label='Validation Accuracy', color='cyan',\n",
      "C:\\Users\\moham\\Desktop\\Internship\\ImmuneSystemDM\\src\\visualization\\plotting.py:30: UserWarning: color is redundantly defined by the 'color' keyword argument and the fmt string \"b\" (-> color=(0.0, 0.0, 1.0, 1)). The keyword argument will take precedence.\n",
      "  plt.plot(epochs, history.history['roc_auc'], 'b', label='ROC AUC', color='red')\n",
      "C:\\Users\\moham\\Desktop\\Internship\\ImmuneSystemDM\\src\\visualization\\plotting.py:32: UserWarning: color is redundantly defined by the 'color' keyword argument and the fmt string \"b\" (-> color=(0.0, 0.0, 1.0, 1)). The keyword argument will take precedence.\n",
      "  plt.plot(epochs, history.history['val_roc_auc'], 'b', label='Validation ROC AUC', color='pink',\n"
     ]
    },
    {
     "data": {
      "text/plain": "<Figure size 800x600 with 1 Axes>",
      "image/png": "[encoded data removed]"
     },
     "metadata": {},
     "output_type": "display_data"
    }
   ],
   "source": [
    "plot_metrics(history)"
   ],
   "metadata": {
    "collapsed": false,
    "ExecuteTime": {
     "end_time": "2024-03-28T03:30:34.389545400Z",
     "start_time": "2024-03-28T03:30:33.685549Z"
    }
   },
   "id": "f53de0c374fabcab"
  },
  {
   "cell_type": "code",
   "execution_count": 61,
   "outputs": [
    {
     "name": "stdout",
     "output_type": "stream",
     "text": [
      "shape (38, 10, 4)\n",
      "5/5 [==============================] - 0s 21ms/step\n",
      "shape (38, 10, 4)\n",
      "9/9 [==============================] - 0s 19ms/step\n",
      "shape (38, 10, 4)\n",
      "26/26 [==============================] - 1s 19ms/step\n",
      "shape (38, 10, 4)\n",
      "7/7 [==============================] - 0s 20ms/step\n",
      "shape (38, 10, 4)\n",
      "2/2 [==============================] - 0s 22ms/step\n",
      "shape (38, 10, 4)\n",
      "3/3 [==============================] - 0s 16ms/step\n",
      "shape (38, 10, 4)\n",
      "5/5 [==============================] - 0s 17ms/step\n",
      "shape (38, 10, 4)\n",
      "9/9 [==============================] - 0s 20ms/step\n",
      "shape (38, 10, 4)\n",
      "5/5 [==============================] - 0s 20ms/step\n",
      "shape (38, 10, 4)\n",
      "13/13 [==============================] - 0s 22ms/step\n",
      "shape (38, 10, 4)\n",
      "3/3 [==============================] - 0s 18ms/step\n",
      "shape (38, 10, 4)\n",
      "3/3 [==============================] - 0s 13ms/step\n",
      "shape (38, 10, 4)\n",
      "2/2 [==============================] - 0s 17ms/step\n",
      "shape (38, 10, 4)\n",
      "5/5 [==============================] - 0s 17ms/step\n",
      "shape (38, 10, 4)\n",
      "3/3 [==============================] - 0s 12ms/step\n",
      "shape (38, 10, 4)\n",
      "10/10 [==============================] - 0s 18ms/step\n",
      "shape (38, 10, 4)\n",
      "13/13 [==============================] - 0s 19ms/step\n"
     ]
    }
   ],
   "source": [
    "test_data_ab = generate_test_data(test_folder, trab_chains, InteractionMapMode.CONCATENATE, shape_ab)\n",
    "\n",
    "auc_scores = model.evaluate(test_data_ab)\n"
   ],
   "metadata": {
    "collapsed": false,
    "ExecuteTime": {
     "end_time": "2024-03-28T03:30:48.768030200Z",
     "start_time": "2024-03-28T03:30:41.580640800Z"
    }
   },
   "id": "d7d45a1a16c34263"
  },
  {
   "cell_type": "code",
   "execution_count": 62,
   "outputs": [
    {
     "name": "stdout",
     "output_type": "stream",
     "text": [
      "0.7845325289417475\n"
     ]
    }
   ],
   "source": [
    "print(sum(auc_scores.values()) / len(auc_scores))"
   ],
   "metadata": {
    "collapsed": false,
    "ExecuteTime": {
     "end_time": "2024-03-28T03:30:50.901652100Z",
     "start_time": "2024-03-28T03:30:50.555654Z"
    }
   },
   "id": "b1b1b266f6adb6a0"
  },
  {
   "cell_type": "markdown",
   "source": [
    "# Train on TRB, test on TRA"
   ],
   "metadata": {
    "collapsed": false
   },
   "id": "6f3e1c1014f49eb"
  },
  {
   "cell_type": "code",
   "execution_count": 14,
   "outputs": [
    {
     "name": "stdout",
     "output_type": "stream",
     "text": [
      "shape (23, 10, 4)\n",
      "5/5 [==============================] - 0s 23ms/step\n",
      "shape (23, 10, 4)\n",
      "9/9 [==============================] - 0s 13ms/step\n",
      "shape (23, 10, 4)\n",
      "26/26 [==============================] - 0s 15ms/step\n",
      "shape (23, 10, 4)\n",
      "7/7 [==============================] - 0s 16ms/step\n",
      "shape (23, 10, 4)\n",
      "2/2 [==============================] - 0s 15ms/step\n",
      "shape (23, 10, 4)\n",
      "3/3 [==============================] - 0s 11ms/step\n",
      "shape (23, 10, 4)\n",
      "5/5 [==============================] - 0s 14ms/step\n",
      "shape (23, 10, 4)\n",
      "9/9 [==============================] - 0s 13ms/step\n",
      "shape (23, 10, 4)\n",
      "5/5 [==============================] - 0s 17ms/step\n",
      "shape (23, 10, 4)\n",
      "13/13 [==============================] - 0s 13ms/step\n",
      "shape (23, 10, 4)\n",
      "3/3 [==============================] - 0s 12ms/step\n",
      "shape (23, 10, 4)\n",
      "3/3 [==============================] - 0s 14ms/step\n",
      "shape (23, 10, 4)\n",
      "2/2 [==============================] - 0s 17ms/step\n",
      "shape (23, 10, 4)\n",
      "5/5 [==============================] - 0s 12ms/step\n",
      "shape (23, 10, 4)\n",
      "3/3 [==============================] - 0s 20ms/step\n",
      "shape (23, 10, 4)\n",
      "10/10 [==============================] - 0s 25ms/step\n",
      "shape (23, 10, 4)\n",
      "13/13 [==============================] - 0s 15ms/step\n"
     ]
    }
   ],
   "source": [
    "test_data_b2 = generate_test_data(test_folder, trb_chain, InteractionMapMode.SINGLE, shape_a)\n",
    "auc_scores = evaluate(\n",
    "    model_path_tra,\n",
    "    test_data_b2\n",
    ")"
   ],
   "metadata": {
    "collapsed": false,
    "ExecuteTime": {
     "end_time": "2023-11-27T17:34:09.661981900Z",
     "start_time": "2023-11-27T17:34:02.647115100Z"
    }
   },
   "id": "46fd2e35fe0e5d93"
  },
  {
   "cell_type": "code",
   "execution_count": 15,
   "outputs": [
    {
     "name": "stdout",
     "output_type": "stream",
     "text": [
      "0.5353827930171998\n"
     ]
    }
   ],
   "source": [
    "print(sum(auc_scores.values()) / len(auc_scores))"
   ],
   "metadata": {
    "collapsed": false,
    "ExecuteTime": {
     "end_time": "2023-11-27T17:34:12.305121300Z",
     "start_time": "2023-11-27T17:34:11.947126900Z"
    }
   },
   "id": "d925cf3bacde867e"
  },
  {
   "cell_type": "code",
   "execution_count": 16,
   "outputs": [
    {
     "data": {
      "text/plain": "<Figure size 1000x600 with 1 Axes>",
      "image/png": "[encoded data removed]"
     },
     "metadata": {},
     "output_type": "display_data"
    }
   ],
   "source": [
    "plot_auc(auc_scores)"
   ],
   "metadata": {
    "collapsed": false,
    "ExecuteTime": {
     "end_time": "2023-11-27T17:37:12.342454Z",
     "start_time": "2023-11-27T17:37:11.603455Z"
    }
   },
   "id": "2ca332ee14c36aa0"
  },
  {
   "cell_type": "markdown",
   "source": [
    "# Combine TRA and TRB imaps into 8 channel imap"
   ],
   "metadata": {
    "collapsed": false
   },
   "id": "5d263aa747476315"
  },
  {
   "cell_type": "code",
   "execution_count": 9,
   "outputs": [
    {
     "data": {
      "text/plain": "(23, 10, 8)"
     },
     "execution_count": 9,
     "metadata": {},
     "output_type": "execute_result"
    }
   ],
   "source": [
    "model_path_trab_combine = 'temp_models/binary_classification_trab_combine_20epochs'\n",
    "trab_chains_combine = ['TRA_CDR3', 'TRB_CDR3']\n",
    "df_ab_combine, shape_ab_combine = generate_imap_dataset(train_folder,trab_chains_combine, InteractionMapMode.COMBINE)\n",
    "shape_ab_combine"
   ],
   "metadata": {
    "collapsed": false,
    "ExecuteTime": {
     "end_time": "2024-03-28T01:53:24.639582700Z",
     "start_time": "2024-03-28T01:53:16.646579200Z"
    }
   },
   "id": "fd6fcc13876e24e8"
  },
  {
   "cell_type": "code",
   "execution_count": 20,
   "outputs": [
    {
     "name": "stdout",
     "output_type": "stream",
     "text": [
      "Epoch 1/20\n",
      "368/368 [==============================] - 28s 70ms/step - loss: 2.6359 - accuracy: 0.8327 - roc_auc: 0.5880 - precision: 0.5361 - recall: 0.0449 - val_loss: 0.6958 - val_accuracy: 0.8419 - val_roc_auc: 0.5973 - val_precision: 0.0000e+00 - val_recall: 0.0000e+00\n",
      "Epoch 2/20\n",
      "368/368 [==============================] - 27s 74ms/step - loss: 0.5806 - accuracy: 0.8445 - roc_auc: 0.6367 - precision: 0.6883 - recall: 0.1394 - val_loss: 0.5418 - val_accuracy: 0.8599 - val_roc_auc: 0.6614 - val_precision: 0.8732 - val_recall: 0.1333\n",
      "Epoch 3/20\n",
      "368/368 [==============================] - 25s 69ms/step - loss: 0.5165 - accuracy: 0.8532 - roc_auc: 0.6728 - precision: 0.7860 - recall: 0.1763 - val_loss: 0.6120 - val_accuracy: 0.8426 - val_roc_auc: 0.6356 - val_precision: 1.0000 - val_recall: 0.0043\n",
      "Epoch 4/20\n",
      "368/368 [==============================] - 26s 70ms/step - loss: 0.5039 - accuracy: 0.8578 - roc_auc: 0.6938 - precision: 0.8008 - recall: 0.2071 - val_loss: 0.4981 - val_accuracy: 0.8599 - val_roc_auc: 0.6858 - val_precision: 0.7912 - val_recall: 0.1548\n",
      "Epoch 5/20\n",
      "368/368 [==============================] - 27s 74ms/step - loss: 0.4947 - accuracy: 0.8585 - roc_auc: 0.6917 - precision: 0.8050 - recall: 0.2106 - val_loss: 0.4827 - val_accuracy: 0.8613 - val_roc_auc: 0.6894 - val_precision: 0.9672 - val_recall: 0.1269\n",
      "Epoch 6/20\n",
      "368/368 [==============================] - 27s 73ms/step - loss: 0.4841 - accuracy: 0.8596 - roc_auc: 0.7062 - precision: 0.8133 - recall: 0.2157 - val_loss: 0.4811 - val_accuracy: 0.8647 - val_roc_auc: 0.7001 - val_precision: 0.9036 - val_recall: 0.1613\n",
      "Epoch 7/20\n",
      "368/368 [==============================] - 27s 72ms/step - loss: 0.4799 - accuracy: 0.8643 - roc_auc: 0.7129 - precision: 0.8542 - recall: 0.2338 - val_loss: 0.4796 - val_accuracy: 0.8654 - val_roc_auc: 0.6824 - val_precision: 0.9157 - val_recall: 0.1634\n",
      "Epoch 8/20\n",
      "368/368 [==============================] - 26s 71ms/step - loss: 0.4769 - accuracy: 0.8641 - roc_auc: 0.7320 - precision: 0.8205 - recall: 0.2470 - val_loss: 0.4817 - val_accuracy: 0.8654 - val_roc_auc: 0.7165 - val_precision: 0.7482 - val_recall: 0.2237\n",
      "Epoch 9/20\n",
      "368/368 [==============================] - 30s 82ms/step - loss: 0.4765 - accuracy: 0.8634 - roc_auc: 0.7339 - precision: 0.8148 - recall: 0.2444 - val_loss: 0.4691 - val_accuracy: 0.8667 - val_roc_auc: 0.7069 - val_precision: 0.8476 - val_recall: 0.1914\n",
      "Epoch 10/20\n",
      "368/368 [==============================] - 31s 84ms/step - loss: 0.4688 - accuracy: 0.8651 - roc_auc: 0.7405 - precision: 0.8348 - recall: 0.2475 - val_loss: 0.4730 - val_accuracy: 0.8654 - val_roc_auc: 0.7086 - val_precision: 0.8876 - val_recall: 0.1699\n",
      "Epoch 11/20\n",
      "368/368 [==============================] - 29s 78ms/step - loss: 0.4619 - accuracy: 0.8686 - roc_auc: 0.7425 - precision: 0.8571 - recall: 0.2636 - val_loss: 0.4688 - val_accuracy: 0.8691 - val_roc_auc: 0.7300 - val_precision: 0.8704 - val_recall: 0.2022\n",
      "Epoch 12/20\n",
      "368/368 [==============================] - 26s 70ms/step - loss: 0.4608 - accuracy: 0.8703 - roc_auc: 0.7605 - precision: 0.8699 - recall: 0.2702 - val_loss: 0.4643 - val_accuracy: 0.8705 - val_roc_auc: 0.7029 - val_precision: 0.8750 - val_recall: 0.2108\n",
      "Epoch 13/20\n",
      "368/368 [==============================] - 24s 65ms/step - loss: 0.4598 - accuracy: 0.8679 - roc_auc: 0.7533 - precision: 0.8341 - recall: 0.2692 - val_loss: 0.4508 - val_accuracy: 0.8684 - val_roc_auc: 0.7391 - val_precision: 0.9535 - val_recall: 0.1763\n",
      "Epoch 14/20\n",
      "368/368 [==============================] - 25s 67ms/step - loss: 0.4584 - accuracy: 0.8704 - roc_auc: 0.7545 - precision: 0.8631 - recall: 0.2737 - val_loss: 0.4682 - val_accuracy: 0.8677 - val_roc_auc: 0.7015 - val_precision: 0.8878 - val_recall: 0.1871\n",
      "Epoch 15/20\n",
      "368/368 [==============================] - 27s 73ms/step - loss: 0.4552 - accuracy: 0.8683 - roc_auc: 0.7559 - precision: 0.8415 - recall: 0.2682 - val_loss: 0.4585 - val_accuracy: 0.8701 - val_roc_auc: 0.7357 - val_precision: 0.9192 - val_recall: 0.1957\n",
      "Epoch 16/20\n",
      "368/368 [==============================] - 28s 77ms/step - loss: 0.4508 - accuracy: 0.8711 - roc_auc: 0.7649 - precision: 0.8526 - recall: 0.2833 - val_loss: 0.4582 - val_accuracy: 0.8688 - val_roc_auc: 0.7270 - val_precision: 0.8835 - val_recall: 0.1957\n",
      "Epoch 17/20\n",
      "368/368 [==============================] - 26s 72ms/step - loss: 0.4497 - accuracy: 0.8721 - roc_auc: 0.7725 - precision: 0.8420 - recall: 0.2960 - val_loss: 0.4763 - val_accuracy: 0.8626 - val_roc_auc: 0.7149 - val_precision: 0.9296 - val_recall: 0.1419\n",
      "Epoch 18/20\n",
      "368/368 [==============================] - 29s 78ms/step - loss: 0.4461 - accuracy: 0.8738 - roc_auc: 0.7687 - precision: 0.8615 - recall: 0.2985 - val_loss: 0.4455 - val_accuracy: 0.8711 - val_roc_auc: 0.7495 - val_precision: 0.8707 - val_recall: 0.2172\n",
      "Epoch 19/20\n",
      "368/368 [==============================] - 31s 84ms/step - loss: 0.4463 - accuracy: 0.8728 - roc_auc: 0.7757 - precision: 0.8634 - recall: 0.2904 - val_loss: 0.4500 - val_accuracy: 0.8701 - val_roc_auc: 0.7452 - val_precision: 0.7986 - val_recall: 0.2387\n",
      "Epoch 20/20\n",
      "368/368 [==============================] - 26s 70ms/step - loss: 0.4446 - accuracy: 0.8727 - roc_auc: 0.7763 - precision: 0.8455 - recall: 0.2985 - val_loss: 0.4513 - val_accuracy: 0.8681 - val_roc_auc: 0.7487 - val_precision: 0.9873 - val_recall: 0.1677\n",
      "INFO:tensorflow:Assets written to: temp_models/binary_classification_trab_combine_20epochs\\assets\n"
     ]
    },
    {
     "name": "stderr",
     "output_type": "stream",
     "text": [
      "INFO:tensorflow:Assets written to: temp_models/binary_classification_trab_combine_20epochs\\assets\n"
     ]
    }
   ],
   "source": [
    "history_trab_combine = train(\n",
    "    imap_df=df_ab_combine,\n",
    "    imap_shape=shape_ab_combine,\n",
    "    model_path=model_path_trab_combine,\n",
    "    epochs=20,\n",
    ")"
   ],
   "metadata": {
    "collapsed": false,
    "ExecuteTime": {
     "end_time": "2023-11-27T17:51:32.683104Z",
     "start_time": "2023-11-27T17:42:24.361834500Z"
    }
   },
   "id": "18259feca23101cb"
  },
  {
   "cell_type": "code",
   "execution_count": 29,
   "outputs": [
    {
     "ename": "IndexError",
     "evalue": "list index out of range",
     "output_type": "error",
     "traceback": [
      "\u001B[1;31m---------------------------------------------------------------------------\u001B[0m",
      "\u001B[1;31mIndexError\u001B[0m                                Traceback (most recent call last)",
      "Cell \u001B[1;32mIn[29], line 3\u001B[0m\n\u001B[0;32m      1\u001B[0m test_data_ab_combine \u001B[38;5;241m=\u001B[39m generate_test_data(test_folder, trab_chains, InteractionMapMode\u001B[38;5;241m.\u001B[39mCOMBINE, shape_ab_combine)\n\u001B[1;32m----> 3\u001B[0m auc_scores \u001B[38;5;241m=\u001B[39m \u001B[43mevaluate\u001B[49m\u001B[43m(\u001B[49m\n\u001B[0;32m      4\u001B[0m \u001B[43m    \u001B[49m\u001B[43mmodel_path_trab_combine\u001B[49m\u001B[43m,\u001B[49m\n\u001B[0;32m      5\u001B[0m \u001B[43m    \u001B[49m\u001B[43mtest_data_ab_combine\u001B[49m\n\u001B[0;32m      6\u001B[0m \u001B[43m)\u001B[49m\n",
      "File \u001B[1;32m~\\Desktop\\Internship\\ImmuneSystemDM\\src\\models\\test\\test.py:11\u001B[0m, in \u001B[0;36mevaluate\u001B[1;34m(model_path, test_data)\u001B[0m\n\u001B[0;32m     10\u001B[0m \u001B[38;5;28;01mdef\u001B[39;00m \u001B[38;5;21mevaluate\u001B[39m(model_path, test_data):\n\u001B[1;32m---> 11\u001B[0m     loaded_model \u001B[38;5;241m=\u001B[39m \u001B[43mtf\u001B[49m\u001B[38;5;241;43m.\u001B[39;49m\u001B[43mkeras\u001B[49m\u001B[38;5;241;43m.\u001B[39;49m\u001B[43mmodels\u001B[49m\u001B[38;5;241;43m.\u001B[39;49m\u001B[43mload_model\u001B[49m\u001B[43m(\u001B[49m\u001B[43mmodel_path\u001B[49m\u001B[43m)\u001B[49m\n\u001B[0;32m     12\u001B[0m     auc_scores \u001B[38;5;241m=\u001B[39m \u001B[38;5;28mdict\u001B[39m()\n\u001B[0;32m     14\u001B[0m     \u001B[38;5;28;01mfor\u001B[39;00m test_epitope \u001B[38;5;129;01min\u001B[39;00m test_data:\n",
      "File \u001B[1;32m~\\Desktop\\Internship\\ImmuneSystemDM\\venv\\lib\\site-packages\\keras\\src\\saving\\saving_api.py:262\u001B[0m, in \u001B[0;36mload_model\u001B[1;34m(filepath, custom_objects, compile, safe_mode, **kwargs)\u001B[0m\n\u001B[0;32m    254\u001B[0m     \u001B[38;5;28;01mreturn\u001B[39;00m saving_lib\u001B[38;5;241m.\u001B[39mload_model(\n\u001B[0;32m    255\u001B[0m         filepath,\n\u001B[0;32m    256\u001B[0m         custom_objects\u001B[38;5;241m=\u001B[39mcustom_objects,\n\u001B[0;32m    257\u001B[0m         \u001B[38;5;28mcompile\u001B[39m\u001B[38;5;241m=\u001B[39m\u001B[38;5;28mcompile\u001B[39m,\n\u001B[0;32m    258\u001B[0m         safe_mode\u001B[38;5;241m=\u001B[39msafe_mode,\n\u001B[0;32m    259\u001B[0m     )\n\u001B[0;32m    261\u001B[0m \u001B[38;5;66;03m# Legacy case.\u001B[39;00m\n\u001B[1;32m--> 262\u001B[0m \u001B[38;5;28;01mreturn\u001B[39;00m legacy_sm_saving_lib\u001B[38;5;241m.\u001B[39mload_model(\n\u001B[0;32m    263\u001B[0m     filepath, custom_objects\u001B[38;5;241m=\u001B[39mcustom_objects, \u001B[38;5;28mcompile\u001B[39m\u001B[38;5;241m=\u001B[39m\u001B[38;5;28mcompile\u001B[39m, \u001B[38;5;241m*\u001B[39m\u001B[38;5;241m*\u001B[39mkwargs\n\u001B[0;32m    264\u001B[0m )\n",
      "File \u001B[1;32m~\\Desktop\\Internship\\ImmuneSystemDM\\venv\\lib\\site-packages\\keras\\src\\utils\\traceback_utils.py:70\u001B[0m, in \u001B[0;36mfilter_traceback.<locals>.error_handler\u001B[1;34m(*args, **kwargs)\u001B[0m\n\u001B[0;32m     67\u001B[0m     filtered_tb \u001B[38;5;241m=\u001B[39m _process_traceback_frames(e\u001B[38;5;241m.\u001B[39m__traceback__)\n\u001B[0;32m     68\u001B[0m     \u001B[38;5;66;03m# To get the full stack trace, call:\u001B[39;00m\n\u001B[0;32m     69\u001B[0m     \u001B[38;5;66;03m# `tf.debugging.disable_traceback_filtering()`\u001B[39;00m\n\u001B[1;32m---> 70\u001B[0m     \u001B[38;5;28;01mraise\u001B[39;00m e\u001B[38;5;241m.\u001B[39mwith_traceback(filtered_tb) \u001B[38;5;28;01mfrom\u001B[39;00m \u001B[38;5;28;01mNone\u001B[39;00m\n\u001B[0;32m     71\u001B[0m \u001B[38;5;28;01mfinally\u001B[39;00m:\n\u001B[0;32m     72\u001B[0m     \u001B[38;5;28;01mdel\u001B[39;00m filtered_tb\n",
      "File \u001B[1;32m~\\Desktop\\Internship\\ImmuneSystemDM\\venv\\lib\\site-packages\\keras\\src\\saving\\legacy\\saved_model\\load.py:102\u001B[0m, in \u001B[0;36mload\u001B[1;34m(path, compile, options)\u001B[0m\n\u001B[0;32m     96\u001B[0m \u001B[38;5;66;03m# TODO(kathywu): Add saving/loading of optimizer, compiled losses and\u001B[39;00m\n\u001B[0;32m     97\u001B[0m \u001B[38;5;66;03m# metrics.\u001B[39;00m\n\u001B[0;32m     98\u001B[0m \u001B[38;5;66;03m# TODO(kathywu): Add code to load from objects that contain all endpoints\u001B[39;00m\n\u001B[0;32m     99\u001B[0m \n\u001B[0;32m    100\u001B[0m \u001B[38;5;66;03m# Look for metadata file or parse the SavedModel\u001B[39;00m\n\u001B[0;32m    101\u001B[0m metadata \u001B[38;5;241m=\u001B[39m saved_metadata_pb2\u001B[38;5;241m.\u001B[39mSavedMetadata()\n\u001B[1;32m--> 102\u001B[0m meta_graph_def \u001B[38;5;241m=\u001B[39m \u001B[43mtf\u001B[49m\u001B[38;5;241;43m.\u001B[39;49m\u001B[43m__internal__\u001B[49m\u001B[38;5;241;43m.\u001B[39;49m\u001B[43msaved_model\u001B[49m\u001B[38;5;241;43m.\u001B[39;49m\u001B[43mparse_saved_model\u001B[49m\u001B[43m(\u001B[49m\n\u001B[0;32m    103\u001B[0m \u001B[43m    \u001B[49m\u001B[43mpath\u001B[49m\n\u001B[0;32m    104\u001B[0m \u001B[43m\u001B[49m\u001B[43m)\u001B[49m\u001B[38;5;241;43m.\u001B[39;49m\u001B[43mmeta_graphs\u001B[49m\u001B[43m[\u001B[49m\u001B[38;5;241;43m0\u001B[39;49m\u001B[43m]\u001B[49m\n\u001B[0;32m    105\u001B[0m object_graph_def \u001B[38;5;241m=\u001B[39m meta_graph_def\u001B[38;5;241m.\u001B[39mobject_graph_def\n\u001B[0;32m    106\u001B[0m path_to_metadata_pb \u001B[38;5;241m=\u001B[39m tf\u001B[38;5;241m.\u001B[39mio\u001B[38;5;241m.\u001B[39mgfile\u001B[38;5;241m.\u001B[39mjoin(path, constants\u001B[38;5;241m.\u001B[39mSAVED_METADATA_PATH)\n",
      "\u001B[1;31mIndexError\u001B[0m: list index out of range"
     ]
    }
   ],
   "source": [
    "test_data_ab_combine = generate_test_data(test_folder, trab_chains, InteractionMapMode.COMBINE, shape_ab_combine)\n",
    "\n",
    "auc_scores = evaluate(\n",
    "    model_path_trab_combine,\n",
    "    test_data_ab_combine\n",
    ")"
   ],
   "metadata": {
    "collapsed": false,
    "ExecuteTime": {
     "end_time": "2023-11-28T00:11:05.237006200Z",
     "start_time": "2023-11-28T00:11:02.341301400Z"
    }
   },
   "id": "13a0606a1530b90"
  },
  {
   "cell_type": "code",
   "execution_count": null,
   "outputs": [],
   "source": [
    "print(sum(auc_scores.values()) / len(auc_scores))"
   ],
   "metadata": {
    "collapsed": false
   },
   "id": "ccd3ff5af548bc1b"
  },
  {
   "cell_type": "code",
   "execution_count": null,
   "outputs": [],
   "source": [
    "from tensorflow.python.client import device_lib\n",
    "\n",
    "def get_available_devices():\n",
    "    local_device_protos = device_lib.list_local_devices()\n",
    "    return [x.name for x in local_device_protos]\n",
    "\n",
    "print(get_available_devices())"
   ],
   "metadata": {
    "collapsed": false
   },
   "id": "646a76cafd420e95"
  },
  {
   "cell_type": "code",
   "execution_count": null,
   "outputs": [],
   "source": [],
   "metadata": {
    "collapsed": false
   },
   "id": "7ba84ba278b34b30"
  }
 ],
 "metadata": {
  "kernelspec": {
   "display_name": "Python 3",
   "language": "python",
   "name": "python3"
  },
  "language_info": {
   "codemirror_mode": {
    "name": "ipython",
    "version": 2
   },
   "file_extension": ".py",
   "mimetype": "text/x-python",
   "name": "python",
   "nbconvert_exporter": "python",
   "pygments_lexer": "ipython2",
   "version": "2.7.6"
  }
 },
 "nbformat": 4,
 "nbformat_minor": 5
}
